{
 "cells": [
  {
   "cell_type": "code",
   "execution_count": 1,
   "metadata": {},
   "outputs": [],
   "source": [
    "'''CODE HERE'''\n",
    "import pandas as pd\n",
    "#produces a prediction model in the form of an ensemble of weak prediction models, typically decision tree\n",
    "# import xgboost as xgb\n",
    "#the outcome (dependent variable) has only a limited number of possible values. \n",
    "#Logistic Regression is used when response variable is categorical in nature.\n",
    "# from sklearn.linear_model import LogisticRegression\n",
    "# #A random forest is a meta estimator that fits a number of decision tree classifiers \n",
    "# #on various sub-samples of the dataset and use averaging to improve the predictive \n",
    "# #accuracy and control over-fitting.\n",
    "# from sklearn.ensemble import RandomForestClassifier\n",
    "# #a discriminative classifier formally defined by a separating hyperplane.\n",
    "# from sklearn.svm import SVC\n",
    "# #displayd data\n",
    "# from IPython.display import display\n",
    "# %matplotlib inline\n",
    "\n",
    "\n",
    "data = pd.read_csv('Data/finalData.csv')\n",
    "df=data"
   ]
  },
  {
   "cell_type": "code",
   "execution_count": 31,
   "metadata": {},
   "outputs": [],
   "source": [
    "# Preview data.\n",
    "data.sort_values(by=['Date'])\n",
    "df['Date'] = pd.to_datetime(df['Date'])  \n",
    "\n",
    "##returns the matches between start date and end date// yyyy-mm-dd\n",
    "##display(getMatchesBeforGivenDate(\"2008-08-16\",\"2010-08-17\"))\n",
    "def getMatchesBeforGivenDate(start_date,end_date):\n",
    "    return data[data.Date.between(start_date, end_date)]\n",
    "\n",
    "\n"
   ]
  },
  {
   "cell_type": "code",
   "execution_count": 32,
   "metadata": {},
   "outputs": [
    {
     "data": {
      "text/plain": [
       "0.6644736842105263"
      ]
     },
     "execution_count": 32,
     "metadata": {},
     "output_type": "execute_result"
    }
   ],
   "source": [
    "def getMatchesWithTeam(df,teamName):\n",
    "    return df.loc[df['HomeTeam'] == teamName]\n",
    "\n",
    "def getMatchesWithHomeTeamWin(df):\n",
    "    return df.loc[df['FTR'] == \"H\"]\n",
    "    \n",
    "def getHomeWinPercent(teamName):\n",
    "    homeTeamRows = getMatchesWithTeam(data,teamName)\n",
    "    homeTeamWinRows = getMatchesWithHomeTeamWin(homeTeamRows)\n",
    "    return len(homeTeamWinRows)/len(homeTeamRows)\n",
    "    \n",
    "getHomeWinPercent(\"Chelsea\")"
   ]
  },
  {
   "cell_type": "code",
   "execution_count": null,
   "metadata": {},
   "outputs": [],
   "source": []
  }
 ],
 "metadata": {
  "kernelspec": {
   "display_name": "Python 3",
   "language": "python",
   "name": "python3"
  },
  "language_info": {
   "codemirror_mode": {
    "name": "ipython",
    "version": 3
   },
   "file_extension": ".py",
   "mimetype": "text/x-python",
   "name": "python",
   "nbconvert_exporter": "python",
   "pygments_lexer": "ipython3",
   "version": "3.6.5"
  }
 },
 "nbformat": 4,
 "nbformat_minor": 2
}
