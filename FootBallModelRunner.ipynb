{
 "cells": [
  {
   "cell_type": "code",
   "execution_count": 1,
   "metadata": {},
   "outputs": [],
   "source": [
    "#data preprocessing\n",
    "import pandas as pd\n",
    "#produces a prediction model in the form of an ensemble of weak prediction models, typically decision tree\n",
    "import xgboost as xgb\n",
    "#the outcome (dependent variable) has only a limited number of possible values. \n",
    "#Logistic Regression is used when response variable is categorical in nature.\n",
    "from sklearn.linear_model import LogisticRegression\n",
    "#A random forest is a meta estimator that fits a number of decision tree classifiers \n",
    "#on various sub-samples of the dataset and use averaging to improve the predictive \n",
    "#accuracy and control over-fitting.\n",
    "from sklearn.ensemble import RandomForestClassifier\n",
    "#a discriminative classifier formally defined by a separating hyperplane.\n",
    "from sklearn.svm import SVC\n",
    "#displayd data\n",
    "from IPython.display import display\n",
    "%matplotlib inline"
   ]
  },
  {
   "cell_type": "code",
   "execution_count": 2,
   "metadata": {},
   "outputs": [
    {
     "data": {
      "text/html": [
       "<div>\n",
       "<style scoped>\n",
       "    .dataframe tbody tr th:only-of-type {\n",
       "        vertical-align: middle;\n",
       "    }\n",
       "\n",
       "    .dataframe tbody tr th {\n",
       "        vertical-align: top;\n",
       "    }\n",
       "\n",
       "    .dataframe thead th {\n",
       "        text-align: right;\n",
       "    }\n",
       "</style>\n",
       "<table border=\"1\" class=\"dataframe\">\n",
       "  <thead>\n",
       "    <tr style=\"text-align: right;\">\n",
       "      <th></th>\n",
       "      <th>div</th>\n",
       "      <th>key</th>\n",
       "      <th>team1</th>\n",
       "      <th>team2</th>\n",
       "      <th>date</th>\n",
       "      <th>FTR</th>\n",
       "      <th>team1_home_win</th>\n",
       "      <th>team1_home_draw</th>\n",
       "      <th>team1_away_win</th>\n",
       "      <th>team1_away_draw</th>\n",
       "      <th>...</th>\n",
       "      <th>BbAH</th>\n",
       "      <th>BbAHh</th>\n",
       "      <th>BbMxAHH</th>\n",
       "      <th>BbAvAHH</th>\n",
       "      <th>BbMxAHA</th>\n",
       "      <th>BbAvAHA</th>\n",
       "      <th>home_player_overall</th>\n",
       "      <th>away_player_overall</th>\n",
       "      <th>home_team_overall</th>\n",
       "      <th>away_team_overall</th>\n",
       "    </tr>\n",
       "  </thead>\n",
       "  <tbody>\n",
       "    <tr>\n",
       "      <th>0</th>\n",
       "      <td>702</td>\n",
       "      <td>Stoke_Hull_2010-04-03</td>\n",
       "      <td>4</td>\n",
       "      <td>7</td>\n",
       "      <td>2010-04-03</td>\n",
       "      <td>H</td>\n",
       "      <td>0.472222</td>\n",
       "      <td>0.277778</td>\n",
       "      <td>0.147059</td>\n",
       "      <td>0.323529</td>\n",
       "      <td>...</td>\n",
       "      <td>18.0</td>\n",
       "      <td>0.00</td>\n",
       "      <td>1.35</td>\n",
       "      <td>1.30</td>\n",
       "      <td>3.60</td>\n",
       "      <td>3.25</td>\n",
       "      <td>66</td>\n",
       "      <td>66</td>\n",
       "      <td>429</td>\n",
       "      <td>431</td>\n",
       "    </tr>\n",
       "    <tr>\n",
       "      <th>1</th>\n",
       "      <td>341</td>\n",
       "      <td>Middlesbrough_Man United_2009-05-02</td>\n",
       "      <td>9</td>\n",
       "      <td>19</td>\n",
       "      <td>2009-05-02</td>\n",
       "      <td>A</td>\n",
       "      <td>0.277778</td>\n",
       "      <td>0.444444</td>\n",
       "      <td>0.117647</td>\n",
       "      <td>0.117647</td>\n",
       "      <td>...</td>\n",
       "      <td>18.0</td>\n",
       "      <td>1.00</td>\n",
       "      <td>1.81</td>\n",
       "      <td>1.78</td>\n",
       "      <td>2.15</td>\n",
       "      <td>2.09</td>\n",
       "      <td>65</td>\n",
       "      <td>68</td>\n",
       "      <td>395</td>\n",
       "      <td>420</td>\n",
       "    </tr>\n",
       "    <tr>\n",
       "      <th>2</th>\n",
       "      <td>1514</td>\n",
       "      <td>Stoke_Bolton_2012-05-13</td>\n",
       "      <td>4</td>\n",
       "      <td>3</td>\n",
       "      <td>2012-05-13</td>\n",
       "      <td>D</td>\n",
       "      <td>0.447368</td>\n",
       "      <td>0.302632</td>\n",
       "      <td>0.171053</td>\n",
       "      <td>0.250000</td>\n",
       "      <td>...</td>\n",
       "      <td>19.0</td>\n",
       "      <td>-0.25</td>\n",
       "      <td>2.07</td>\n",
       "      <td>2.03</td>\n",
       "      <td>1.89</td>\n",
       "      <td>1.84</td>\n",
       "      <td>68</td>\n",
       "      <td>66</td>\n",
       "      <td>429</td>\n",
       "      <td>467</td>\n",
       "    </tr>\n",
       "    <tr>\n",
       "      <th>3</th>\n",
       "      <td>812</td>\n",
       "      <td>Blackpool_Blackburn_2010-09-25</td>\n",
       "      <td>24</td>\n",
       "      <td>6</td>\n",
       "      <td>2010-09-25</td>\n",
       "      <td>A</td>\n",
       "      <td>0.000000</td>\n",
       "      <td>0.500000</td>\n",
       "      <td>0.500000</td>\n",
       "      <td>0.000000</td>\n",
       "      <td>...</td>\n",
       "      <td>22.0</td>\n",
       "      <td>0.00</td>\n",
       "      <td>2.41</td>\n",
       "      <td>2.22</td>\n",
       "      <td>1.68</td>\n",
       "      <td>1.62</td>\n",
       "      <td>64</td>\n",
       "      <td>68</td>\n",
       "      <td>459</td>\n",
       "      <td>501</td>\n",
       "    </tr>\n",
       "    <tr>\n",
       "      <th>4</th>\n",
       "      <td>1682</td>\n",
       "      <td>Newcastle_Man City_2012-12-15</td>\n",
       "      <td>20</td>\n",
       "      <td>16</td>\n",
       "      <td>2012-12-15</td>\n",
       "      <td>A</td>\n",
       "      <td>0.393939</td>\n",
       "      <td>0.318182</td>\n",
       "      <td>0.230769</td>\n",
       "      <td>0.276923</td>\n",
       "      <td>...</td>\n",
       "      <td>25.0</td>\n",
       "      <td>0.75</td>\n",
       "      <td>2.05</td>\n",
       "      <td>1.99</td>\n",
       "      <td>1.92</td>\n",
       "      <td>1.87</td>\n",
       "      <td>68</td>\n",
       "      <td>68</td>\n",
       "      <td>430</td>\n",
       "      <td>370</td>\n",
       "    </tr>\n",
       "  </tbody>\n",
       "</table>\n",
       "<p>5 rows × 96 columns</p>\n",
       "</div>"
      ],
      "text/plain": [
       "    div                                  key  team1  team2        date FTR  \\\n",
       "0   702                Stoke_Hull_2010-04-03      4      7  2010-04-03   H   \n",
       "1   341  Middlesbrough_Man United_2009-05-02      9     19  2009-05-02   A   \n",
       "2  1514              Stoke_Bolton_2012-05-13      4      3  2012-05-13   D   \n",
       "3   812       Blackpool_Blackburn_2010-09-25     24      6  2010-09-25   A   \n",
       "4  1682        Newcastle_Man City_2012-12-15     20     16  2012-12-15   A   \n",
       "\n",
       "   team1_home_win  team1_home_draw  team1_away_win  team1_away_draw  \\\n",
       "0        0.472222         0.277778        0.147059         0.323529   \n",
       "1        0.277778         0.444444        0.117647         0.117647   \n",
       "2        0.447368         0.302632        0.171053         0.250000   \n",
       "3        0.000000         0.500000        0.500000         0.000000   \n",
       "4        0.393939         0.318182        0.230769         0.276923   \n",
       "\n",
       "         ...          BbAH  BbAHh  BbMxAHH  BbAvAHH  BbMxAHA  BbAvAHA  \\\n",
       "0        ...          18.0   0.00     1.35     1.30     3.60     3.25   \n",
       "1        ...          18.0   1.00     1.81     1.78     2.15     2.09   \n",
       "2        ...          19.0  -0.25     2.07     2.03     1.89     1.84   \n",
       "3        ...          22.0   0.00     2.41     2.22     1.68     1.62   \n",
       "4        ...          25.0   0.75     2.05     1.99     1.92     1.87   \n",
       "\n",
       "   home_player_overall  away_player_overall  home_team_overall  \\\n",
       "0                   66                   66                429   \n",
       "1                   65                   68                395   \n",
       "2                   68                   66                429   \n",
       "3                   64                   68                459   \n",
       "4                   68                   68                430   \n",
       "\n",
       "   away_team_overall  \n",
       "0                431  \n",
       "1                420  \n",
       "2                467  \n",
       "3                501  \n",
       "4                370  \n",
       "\n",
       "[5 rows x 96 columns]"
      ]
     },
     "metadata": {},
     "output_type": "display_data"
    },
    {
     "name": "stdout",
     "output_type": "stream",
     "text": [
      "Total number of matches: 3040\n",
      "Number of features: 95\n",
      "Number of matches won by home team: 1390\n",
      "Win rate of home team: 45.72%\n"
     ]
    }
   ],
   "source": [
    "# Read data and drop redundant column.\n",
    "data = pd.read_csv('Data/final_processed_3.csv')\n",
    "display(data.head())\n",
    "\n",
    "\n",
    "# Total number of matches.\n",
    "n_matches = data.shape[0]\n",
    "\n",
    "# Calculate number of features. -1 because we are saving one as the target variable (win/lose/draw)\n",
    "n_features = data.shape[1] - 1\n",
    "\n",
    "# Calculate matches won by home team.\n",
    "n_homewins = len(data[data.FTR == 'H'])\n",
    "\n",
    "# Calculate win rate for home team.\n",
    "win_rate = (float(n_homewins) / (n_matches)) * 100\n",
    "\n",
    "\n",
    "# Print the results\n",
    "print (\"Total number of matches: {}\".format(n_matches))\n",
    "print (\"Number of features: {}\".format(n_features))\n",
    "print (\"Number of matches won by home team: {}\".format(n_homewins))\n",
    "print (\"Win rate of home team: {:.2f}%\".format(win_rate))"
   ]
  },
  {
   "cell_type": "code",
   "execution_count": 3,
   "metadata": {},
   "outputs": [
    {
     "data": {
      "text/html": [
       "<div>\n",
       "<style scoped>\n",
       "    .dataframe tbody tr th:only-of-type {\n",
       "        vertical-align: middle;\n",
       "    }\n",
       "\n",
       "    .dataframe tbody tr th {\n",
       "        vertical-align: top;\n",
       "    }\n",
       "\n",
       "    .dataframe thead th {\n",
       "        text-align: right;\n",
       "    }\n",
       "</style>\n",
       "<table border=\"1\" class=\"dataframe\">\n",
       "  <thead>\n",
       "    <tr style=\"text-align: right;\">\n",
       "      <th></th>\n",
       "      <th>team1</th>\n",
       "      <th>team2</th>\n",
       "      <th>team1_home_win</th>\n",
       "      <th>team1_home_draw</th>\n",
       "      <th>team1_away_win</th>\n",
       "      <th>team1_away_draw</th>\n",
       "      <th>team1_home_goals</th>\n",
       "      <th>team1_away_goals</th>\n",
       "      <th>team1_home_goals_conceded</th>\n",
       "      <th>team1_away_goals_conceded</th>\n",
       "      <th>...</th>\n",
       "      <th>BbAH</th>\n",
       "      <th>BbAHh</th>\n",
       "      <th>BbMxAHH</th>\n",
       "      <th>BbAvAHH</th>\n",
       "      <th>BbMxAHA</th>\n",
       "      <th>BbAvAHA</th>\n",
       "      <th>home_player_overall</th>\n",
       "      <th>away_player_overall</th>\n",
       "      <th>home_team_overall</th>\n",
       "      <th>away_team_overall</th>\n",
       "    </tr>\n",
       "  </thead>\n",
       "  <tbody>\n",
       "    <tr>\n",
       "      <th>0</th>\n",
       "      <td>4</td>\n",
       "      <td>7</td>\n",
       "      <td>0.472222</td>\n",
       "      <td>0.277778</td>\n",
       "      <td>0.147059</td>\n",
       "      <td>0.323529</td>\n",
       "      <td>1.250000</td>\n",
       "      <td>0.735294</td>\n",
       "      <td>0.944444</td>\n",
       "      <td>1.647059</td>\n",
       "      <td>...</td>\n",
       "      <td>18.0</td>\n",
       "      <td>0.00</td>\n",
       "      <td>1.35</td>\n",
       "      <td>1.30</td>\n",
       "      <td>3.60</td>\n",
       "      <td>3.25</td>\n",
       "      <td>66</td>\n",
       "      <td>66</td>\n",
       "      <td>429</td>\n",
       "      <td>431</td>\n",
       "    </tr>\n",
       "    <tr>\n",
       "      <th>1</th>\n",
       "      <td>9</td>\n",
       "      <td>19</td>\n",
       "      <td>0.277778</td>\n",
       "      <td>0.444444</td>\n",
       "      <td>0.117647</td>\n",
       "      <td>0.117647</td>\n",
       "      <td>0.888889</td>\n",
       "      <td>0.529412</td>\n",
       "      <td>1.055556</td>\n",
       "      <td>1.882353</td>\n",
       "      <td>...</td>\n",
       "      <td>18.0</td>\n",
       "      <td>1.00</td>\n",
       "      <td>1.81</td>\n",
       "      <td>1.78</td>\n",
       "      <td>2.15</td>\n",
       "      <td>2.09</td>\n",
       "      <td>65</td>\n",
       "      <td>68</td>\n",
       "      <td>395</td>\n",
       "      <td>420</td>\n",
       "    </tr>\n",
       "    <tr>\n",
       "      <th>2</th>\n",
       "      <td>4</td>\n",
       "      <td>3</td>\n",
       "      <td>0.447368</td>\n",
       "      <td>0.302632</td>\n",
       "      <td>0.171053</td>\n",
       "      <td>0.250000</td>\n",
       "      <td>1.342105</td>\n",
       "      <td>0.684211</td>\n",
       "      <td>0.973684</td>\n",
       "      <td>1.710526</td>\n",
       "      <td>...</td>\n",
       "      <td>19.0</td>\n",
       "      <td>-0.25</td>\n",
       "      <td>2.07</td>\n",
       "      <td>2.03</td>\n",
       "      <td>1.89</td>\n",
       "      <td>1.84</td>\n",
       "      <td>68</td>\n",
       "      <td>66</td>\n",
       "      <td>429</td>\n",
       "      <td>467</td>\n",
       "    </tr>\n",
       "    <tr>\n",
       "      <th>3</th>\n",
       "      <td>24</td>\n",
       "      <td>6</td>\n",
       "      <td>0.000000</td>\n",
       "      <td>0.500000</td>\n",
       "      <td>0.500000</td>\n",
       "      <td>0.000000</td>\n",
       "      <td>1.500000</td>\n",
       "      <td>1.500000</td>\n",
       "      <td>2.000000</td>\n",
       "      <td>2.500000</td>\n",
       "      <td>...</td>\n",
       "      <td>22.0</td>\n",
       "      <td>0.00</td>\n",
       "      <td>2.41</td>\n",
       "      <td>2.22</td>\n",
       "      <td>1.68</td>\n",
       "      <td>1.62</td>\n",
       "      <td>64</td>\n",
       "      <td>68</td>\n",
       "      <td>459</td>\n",
       "      <td>501</td>\n",
       "    </tr>\n",
       "    <tr>\n",
       "      <th>4</th>\n",
       "      <td>20</td>\n",
       "      <td>16</td>\n",
       "      <td>0.393939</td>\n",
       "      <td>0.318182</td>\n",
       "      <td>0.230769</td>\n",
       "      <td>0.276923</td>\n",
       "      <td>1.590909</td>\n",
       "      <td>1.015385</td>\n",
       "      <td>1.287879</td>\n",
       "      <td>1.661538</td>\n",
       "      <td>...</td>\n",
       "      <td>25.0</td>\n",
       "      <td>0.75</td>\n",
       "      <td>2.05</td>\n",
       "      <td>1.99</td>\n",
       "      <td>1.92</td>\n",
       "      <td>1.87</td>\n",
       "      <td>68</td>\n",
       "      <td>68</td>\n",
       "      <td>430</td>\n",
       "      <td>370</td>\n",
       "    </tr>\n",
       "  </tbody>\n",
       "</table>\n",
       "<p>5 rows × 89 columns</p>\n",
       "</div>"
      ],
      "text/plain": [
       "   team1  team2  team1_home_win  team1_home_draw  team1_away_win  \\\n",
       "0      4      7        0.472222         0.277778        0.147059   \n",
       "1      9     19        0.277778         0.444444        0.117647   \n",
       "2      4      3        0.447368         0.302632        0.171053   \n",
       "3     24      6        0.000000         0.500000        0.500000   \n",
       "4     20     16        0.393939         0.318182        0.230769   \n",
       "\n",
       "   team1_away_draw  team1_home_goals  team1_away_goals  \\\n",
       "0         0.323529          1.250000          0.735294   \n",
       "1         0.117647          0.888889          0.529412   \n",
       "2         0.250000          1.342105          0.684211   \n",
       "3         0.000000          1.500000          1.500000   \n",
       "4         0.276923          1.590909          1.015385   \n",
       "\n",
       "   team1_home_goals_conceded  team1_away_goals_conceded        ...          \\\n",
       "0                   0.944444                   1.647059        ...           \n",
       "1                   1.055556                   1.882353        ...           \n",
       "2                   0.973684                   1.710526        ...           \n",
       "3                   2.000000                   2.500000        ...           \n",
       "4                   1.287879                   1.661538        ...           \n",
       "\n",
       "   BbAH  BbAHh  BbMxAHH  BbAvAHH  BbMxAHA  BbAvAHA  home_player_overall  \\\n",
       "0  18.0   0.00     1.35     1.30     3.60     3.25                   66   \n",
       "1  18.0   1.00     1.81     1.78     2.15     2.09                   65   \n",
       "2  19.0  -0.25     2.07     2.03     1.89     1.84                   68   \n",
       "3  22.0   0.00     2.41     2.22     1.68     1.62                   64   \n",
       "4  25.0   0.75     2.05     1.99     1.92     1.87                   68   \n",
       "\n",
       "   away_player_overall  home_team_overall  away_team_overall  \n",
       "0                   66                429                431  \n",
       "1                   68                395                420  \n",
       "2                   66                429                467  \n",
       "3                   68                459                501  \n",
       "4                   68                430                370  \n",
       "\n",
       "[5 rows x 89 columns]"
      ]
     },
     "metadata": {},
     "output_type": "display_data"
    },
    {
     "name": "stdout",
     "output_type": "stream",
     "text": [
      "(3040, 89)\n"
     ]
    }
   ],
   "source": [
    "# Separate into feature set and target variable\n",
    "#FTR = Full Time Result (H=Home Win, D=Draw, A=Away Win)\n",
    "X_all =data.drop(['div','FTR', 'key', 'date', 'WHH','WHD','WHA'], axis=1)  # df.columns is zero-based pd.Index\n",
    "# X_all =X_all.drop(0, axis=1)  # df.columns is zero-based pd.Index \n",
    "\n",
    "y_all = data['FTR']\n",
    "\n",
    "display(X_all.head())\n",
    "print(X_all.shape)"
   ]
  },
  {
   "cell_type": "code",
   "execution_count": 4,
   "metadata": {},
   "outputs": [
    {
     "name": "stderr",
     "output_type": "stream",
     "text": [
      "/home/shravan/anaconda3/lib/python3.6/site-packages/sklearn/utils/validation.py:475: DataConversionWarning: Data with input dtype int64 was converted to float64 by the scale function.\n",
      "  warnings.warn(msg, DataConversionWarning)\n"
     ]
    }
   ],
   "source": [
    "def preprocess_features(X):\n",
    "    ''' Preprocesses the football data and converts catagorical variables into dummy variables. '''\n",
    "    \n",
    "    # Initialize new output DataFrame\n",
    "    output = pd.DataFrame(index = X.index)\n",
    "\n",
    "    # Investigate each feature column for the data\n",
    "    for col, col_data in X.iteritems():\n",
    "\n",
    "        # If data type is categorical, convert to dummy variables\n",
    "        if col_data.dtype == object:\n",
    "            col_data = pd.get_dummies(col_data, prefix = col)\n",
    "                    \n",
    "        # Collect the revised columns\n",
    "        output = output.join(col_data)\n",
    "    \n",
    "    return output\n",
    "\n",
    "# Standardising the data.\n",
    "from sklearn.preprocessing import scale\n",
    "cols = X_all.columns\n",
    "\n",
    "for col in cols:\n",
    "    X_all[col] = scale(X_all[col])\n",
    "X_all = preprocess_features(X_all)\n"
   ]
  },
  {
   "cell_type": "code",
   "execution_count": 5,
   "metadata": {},
   "outputs": [],
   "source": [
    "### Final  Feature selection algorithms\n",
    "from sklearn.feature_selection import SelectKBest\n",
    "from sklearn.feature_selection import chi2, f_classif\n",
    "from sklearn.model_selection import train_test_split\n",
    "\n",
    "# print(X.shape)\n",
    "# X = SelectKBest(score_func=f_classif, k=\"all\").fit_transform(X_all,y)\n",
    "\n",
    "##Final splitting\n",
    "# X_train, X_test, y_train, y_test = train_test_split(X, y_all, \n",
    "#                                                     test_size = 0.2,\n",
    "#                                                     shuffle = False)"
   ]
  },
  {
   "cell_type": "code",
   "execution_count": 9,
   "metadata": {},
   "outputs": [],
   "source": [
    "#for measuring training time\n",
    "from time import time \n",
    "# F1 score (also F-score or F-measure) is a measure of a test's accuracy. \n",
    "#It considers both the precision p and the recall r of the test to compute \n",
    "#the score: p is the number of correct positive results divided by the number of \n",
    "#all positive results, and r is the number of correct positive results divided by \n",
    "#the number of positive results that should have been returned. The F1 score can be \n",
    "#interpreted as a weighted average of the precision and recall, where an F1 score \n",
    "#reaches its best value at 1 and worst at 0.\n",
    "from sklearn.metrics import f1_score\n",
    "\n",
    "def train_classifier(clf, X_train, y_train):\n",
    "    ''' Fits a classifier to the training data. '''\n",
    "    \n",
    "    # Start the clock, train the classifier, then stop the clock\n",
    "    start = time\n",
    "    clf.fit(X_train, y_train)\n",
    "    end = time()\n",
    "    \n",
    "    # Print the results\n",
    "#     print (\"Trained model in {:.4f} seconds\".format(end - start))\n",
    "\n",
    "    \n",
    "def predict_labels(clf, features, target):\n",
    "    ''' Makes predictions using a fit classifier based on F1 score. '''\n",
    "    \n",
    "    # Start the clock, make predictions, then stop the clock\n",
    "    start = time()\n",
    "    y_pred = clf.predict(features)\n",
    "    \n",
    "    end = time()\n",
    "    # Print and return results\n",
    "#     print (\"Made predictions in {:.4f} seconds.\".format(end - start))\n",
    "    \n",
    "    return 0,sum(target == y_pred) / float(len(y_pred))\n",
    "\n",
    "\n",
    "def train_predict(clf, X_train, y_train, X_test, y_test):\n",
    "    ''' Train and predict using a classifer based on F1 score. '''\n",
    "    \n",
    "    # Indicate the classifier and the training set size\n",
    "#     print (\"Training a {} using a training set size of {}. . .\".format(clf.__class__.__name__, len(X_train)))\n",
    "    \n",
    "    # Train the classifier\n",
    "    train_classifier(clf, X_train, y_train)\n",
    "    \n",
    "    # Print the results of prediction for both training and testing\n",
    "    f1, acc = predict_labels(clf, X_train, y_train)\n",
    "#     print (f1, acc)\n",
    "#     print (\"F1 score and accuracy score for training set: {:.4f} , {:.4f}.\".format(f1 , acc))\n",
    "    \n",
    "    f1, acc = predict_labels(clf, X_test, y_test)\n",
    "    print (\"F1 score and accuracy score for test set: {:.4f} , {:.4f}.\".format(f1 , acc))\n",
    "    return acc"
   ]
  },
  {
   "cell_type": "code",
   "execution_count": 10,
   "metadata": {
    "scrolled": false
   },
   "outputs": [],
   "source": [
    "# Initialize the three models (XGBoost is initialized later)\n",
    "##Final accuracy calculator..with best feature.\n",
    "\n",
    "# clf_A = LogisticRegression(random_state = 42)\n",
    "# clf_B = SVC(random_state = 912, kernel='rbf')\n",
    "# clf_C = xgb.XGBClassifier(seed = 82)\n",
    "\n",
    "# train_predict(clf_A, X_train, y_train, X_test, y_test)\n",
    "# print ('')\n",
    "\n",
    "# train_predict(clf_B, X_train, y_train, X_test, y_test)\n",
    "# print ('')\n",
    "# train_predict(clf_C, X_train, y_train, X_test, y_test)\n",
    "# print ('')\n",
    "\n"
   ]
  },
  {
   "cell_type": "code",
   "execution_count": 11,
   "metadata": {},
   "outputs": [
    {
     "name": "stdout",
     "output_type": "stream",
     "text": [
      "F1 score and accuracy score for test set: 0.0000 , 0.6151.\n",
      "F1 score and accuracy score for test set: 0.0000 , 0.6003.\n"
     ]
    },
    {
     "name": "stderr",
     "output_type": "stream",
     "text": [
      "/home/shravan/anaconda3/lib/python3.6/site-packages/sklearn/preprocessing/label.py:151: DeprecationWarning: The truth value of an empty array is ambiguous. Returning False, but in future this will result in an error. Use `array.size > 0` to check that an array is not empty.\n",
      "  if diff:\n",
      "/home/shravan/anaconda3/lib/python3.6/site-packages/sklearn/preprocessing/label.py:151: DeprecationWarning: The truth value of an empty array is ambiguous. Returning False, but in future this will result in an error. Use `array.size > 0` to check that an array is not empty.\n",
      "  if diff:\n"
     ]
    },
    {
     "name": "stdout",
     "output_type": "stream",
     "text": [
      "F1 score and accuracy score for test set: 0.0000 , 0.6036.\n",
      "F1 score and accuracy score for test set: 0.0000 , 0.6168.\n",
      "F1 score and accuracy score for test set: 0.0000 , 0.5954.\n"
     ]
    },
    {
     "name": "stderr",
     "output_type": "stream",
     "text": [
      "/home/shravan/anaconda3/lib/python3.6/site-packages/sklearn/preprocessing/label.py:151: DeprecationWarning: The truth value of an empty array is ambiguous. Returning False, but in future this will result in an error. Use `array.size > 0` to check that an array is not empty.\n",
      "  if diff:\n",
      "/home/shravan/anaconda3/lib/python3.6/site-packages/sklearn/preprocessing/label.py:151: DeprecationWarning: The truth value of an empty array is ambiguous. Returning False, but in future this will result in an error. Use `array.size > 0` to check that an array is not empty.\n",
      "  if diff:\n"
     ]
    },
    {
     "name": "stdout",
     "output_type": "stream",
     "text": [
      "F1 score and accuracy score for test set: 0.0000 , 0.6003.\n",
      "F1 score and accuracy score for test set: 0.0000 , 0.6135.\n",
      "F1 score and accuracy score for test set: 0.0000 , 0.5970.\n"
     ]
    },
    {
     "name": "stderr",
     "output_type": "stream",
     "text": [
      "/home/shravan/anaconda3/lib/python3.6/site-packages/sklearn/preprocessing/label.py:151: DeprecationWarning: The truth value of an empty array is ambiguous. Returning False, but in future this will result in an error. Use `array.size > 0` to check that an array is not empty.\n",
      "  if diff:\n",
      "/home/shravan/anaconda3/lib/python3.6/site-packages/sklearn/preprocessing/label.py:151: DeprecationWarning: The truth value of an empty array is ambiguous. Returning False, but in future this will result in an error. Use `array.size > 0` to check that an array is not empty.\n",
      "  if diff:\n"
     ]
    },
    {
     "name": "stdout",
     "output_type": "stream",
     "text": [
      "F1 score and accuracy score for test set: 0.0000 , 0.5954.\n",
      "F1 score and accuracy score for test set: 0.0000 , 0.6184.\n",
      "F1 score and accuracy score for test set: 0.0000 , 0.5987.\n"
     ]
    },
    {
     "name": "stderr",
     "output_type": "stream",
     "text": [
      "/home/shravan/anaconda3/lib/python3.6/site-packages/sklearn/preprocessing/label.py:151: DeprecationWarning: The truth value of an empty array is ambiguous. Returning False, but in future this will result in an error. Use `array.size > 0` to check that an array is not empty.\n",
      "  if diff:\n",
      "/home/shravan/anaconda3/lib/python3.6/site-packages/sklearn/preprocessing/label.py:151: DeprecationWarning: The truth value of an empty array is ambiguous. Returning False, but in future this will result in an error. Use `array.size > 0` to check that an array is not empty.\n",
      "  if diff:\n"
     ]
    },
    {
     "name": "stdout",
     "output_type": "stream",
     "text": [
      "F1 score and accuracy score for test set: 0.0000 , 0.5987.\n",
      "F1 score and accuracy score for test set: 0.0000 , 0.6201.\n",
      "F1 score and accuracy score for test set: 0.0000 , 0.6003.\n"
     ]
    },
    {
     "name": "stderr",
     "output_type": "stream",
     "text": [
      "/home/shravan/anaconda3/lib/python3.6/site-packages/sklearn/preprocessing/label.py:151: DeprecationWarning: The truth value of an empty array is ambiguous. Returning False, but in future this will result in an error. Use `array.size > 0` to check that an array is not empty.\n",
      "  if diff:\n",
      "/home/shravan/anaconda3/lib/python3.6/site-packages/sklearn/preprocessing/label.py:151: DeprecationWarning: The truth value of an empty array is ambiguous. Returning False, but in future this will result in an error. Use `array.size > 0` to check that an array is not empty.\n",
      "  if diff:\n"
     ]
    },
    {
     "name": "stdout",
     "output_type": "stream",
     "text": [
      "F1 score and accuracy score for test set: 0.0000 , 0.6053.\n",
      "F1 score and accuracy score for test set: 0.0000 , 0.6168.\n",
      "F1 score and accuracy score for test set: 0.0000 , 0.6135.\n"
     ]
    },
    {
     "name": "stderr",
     "output_type": "stream",
     "text": [
      "/home/shravan/anaconda3/lib/python3.6/site-packages/sklearn/preprocessing/label.py:151: DeprecationWarning: The truth value of an empty array is ambiguous. Returning False, but in future this will result in an error. Use `array.size > 0` to check that an array is not empty.\n",
      "  if diff:\n",
      "/home/shravan/anaconda3/lib/python3.6/site-packages/sklearn/preprocessing/label.py:151: DeprecationWarning: The truth value of an empty array is ambiguous. Returning False, but in future this will result in an error. Use `array.size > 0` to check that an array is not empty.\n",
      "  if diff:\n"
     ]
    },
    {
     "name": "stdout",
     "output_type": "stream",
     "text": [
      "F1 score and accuracy score for test set: 0.0000 , 0.6234.\n",
      "F1 score and accuracy score for test set: 0.0000 , 0.6168.\n",
      "F1 score and accuracy score for test set: 0.0000 , 0.6118.\n"
     ]
    },
    {
     "name": "stderr",
     "output_type": "stream",
     "text": [
      "/home/shravan/anaconda3/lib/python3.6/site-packages/sklearn/preprocessing/label.py:151: DeprecationWarning: The truth value of an empty array is ambiguous. Returning False, but in future this will result in an error. Use `array.size > 0` to check that an array is not empty.\n",
      "  if diff:\n",
      "/home/shravan/anaconda3/lib/python3.6/site-packages/sklearn/preprocessing/label.py:151: DeprecationWarning: The truth value of an empty array is ambiguous. Returning False, but in future this will result in an error. Use `array.size > 0` to check that an array is not empty.\n",
      "  if diff:\n"
     ]
    },
    {
     "name": "stdout",
     "output_type": "stream",
     "text": [
      "F1 score and accuracy score for test set: 0.0000 , 0.6217.\n",
      "F1 score and accuracy score for test set: 0.0000 , 0.6135.\n",
      "F1 score and accuracy score for test set: 0.0000 , 0.6151.\n"
     ]
    },
    {
     "name": "stderr",
     "output_type": "stream",
     "text": [
      "/home/shravan/anaconda3/lib/python3.6/site-packages/sklearn/preprocessing/label.py:151: DeprecationWarning: The truth value of an empty array is ambiguous. Returning False, but in future this will result in an error. Use `array.size > 0` to check that an array is not empty.\n",
      "  if diff:\n",
      "/home/shravan/anaconda3/lib/python3.6/site-packages/sklearn/preprocessing/label.py:151: DeprecationWarning: The truth value of an empty array is ambiguous. Returning False, but in future this will result in an error. Use `array.size > 0` to check that an array is not empty.\n",
      "  if diff:\n"
     ]
    },
    {
     "name": "stdout",
     "output_type": "stream",
     "text": [
      "F1 score and accuracy score for test set: 0.0000 , 0.6118.\n",
      "F1 score and accuracy score for test set: 0.0000 , 0.6151.\n",
      "F1 score and accuracy score for test set: 0.0000 , 0.6168.\n"
     ]
    },
    {
     "name": "stderr",
     "output_type": "stream",
     "text": [
      "/home/shravan/anaconda3/lib/python3.6/site-packages/sklearn/preprocessing/label.py:151: DeprecationWarning: The truth value of an empty array is ambiguous. Returning False, but in future this will result in an error. Use `array.size > 0` to check that an array is not empty.\n",
      "  if diff:\n",
      "/home/shravan/anaconda3/lib/python3.6/site-packages/sklearn/preprocessing/label.py:151: DeprecationWarning: The truth value of an empty array is ambiguous. Returning False, but in future this will result in an error. Use `array.size > 0` to check that an array is not empty.\n",
      "  if diff:\n"
     ]
    },
    {
     "name": "stdout",
     "output_type": "stream",
     "text": [
      "F1 score and accuracy score for test set: 0.0000 , 0.6151.\n",
      "F1 score and accuracy score for test set: 0.0000 , 0.6135.\n",
      "F1 score and accuracy score for test set: 0.0000 , 0.6184.\n"
     ]
    },
    {
     "name": "stderr",
     "output_type": "stream",
     "text": [
      "/home/shravan/anaconda3/lib/python3.6/site-packages/sklearn/preprocessing/label.py:151: DeprecationWarning: The truth value of an empty array is ambiguous. Returning False, but in future this will result in an error. Use `array.size > 0` to check that an array is not empty.\n",
      "  if diff:\n",
      "/home/shravan/anaconda3/lib/python3.6/site-packages/sklearn/preprocessing/label.py:151: DeprecationWarning: The truth value of an empty array is ambiguous. Returning False, but in future this will result in an error. Use `array.size > 0` to check that an array is not empty.\n",
      "  if diff:\n"
     ]
    },
    {
     "name": "stdout",
     "output_type": "stream",
     "text": [
      "F1 score and accuracy score for test set: 0.0000 , 0.6201.\n",
      "F1 score and accuracy score for test set: 0.0000 , 0.6201.\n",
      "F1 score and accuracy score for test set: 0.0000 , 0.6069.\n"
     ]
    },
    {
     "name": "stderr",
     "output_type": "stream",
     "text": [
      "/home/shravan/anaconda3/lib/python3.6/site-packages/sklearn/preprocessing/label.py:151: DeprecationWarning: The truth value of an empty array is ambiguous. Returning False, but in future this will result in an error. Use `array.size > 0` to check that an array is not empty.\n",
      "  if diff:\n",
      "/home/shravan/anaconda3/lib/python3.6/site-packages/sklearn/preprocessing/label.py:151: DeprecationWarning: The truth value of an empty array is ambiguous. Returning False, but in future this will result in an error. Use `array.size > 0` to check that an array is not empty.\n",
      "  if diff:\n"
     ]
    },
    {
     "name": "stdout",
     "output_type": "stream",
     "text": [
      "F1 score and accuracy score for test set: 0.0000 , 0.6217.\n",
      "F1 score and accuracy score for test set: 0.0000 , 0.6250.\n",
      "F1 score and accuracy score for test set: 0.0000 , 0.6151.\n"
     ]
    },
    {
     "name": "stderr",
     "output_type": "stream",
     "text": [
      "/home/shravan/anaconda3/lib/python3.6/site-packages/sklearn/preprocessing/label.py:151: DeprecationWarning: The truth value of an empty array is ambiguous. Returning False, but in future this will result in an error. Use `array.size > 0` to check that an array is not empty.\n",
      "  if diff:\n",
      "/home/shravan/anaconda3/lib/python3.6/site-packages/sklearn/preprocessing/label.py:151: DeprecationWarning: The truth value of an empty array is ambiguous. Returning False, but in future this will result in an error. Use `array.size > 0` to check that an array is not empty.\n",
      "  if diff:\n"
     ]
    },
    {
     "name": "stdout",
     "output_type": "stream",
     "text": [
      "F1 score and accuracy score for test set: 0.0000 , 0.6316.\n",
      "F1 score and accuracy score for test set: 0.0000 , 0.6168.\n",
      "F1 score and accuracy score for test set: 0.0000 , 0.6234.\n"
     ]
    },
    {
     "name": "stderr",
     "output_type": "stream",
     "text": [
      "/home/shravan/anaconda3/lib/python3.6/site-packages/sklearn/preprocessing/label.py:151: DeprecationWarning: The truth value of an empty array is ambiguous. Returning False, but in future this will result in an error. Use `array.size > 0` to check that an array is not empty.\n",
      "  if diff:\n",
      "/home/shravan/anaconda3/lib/python3.6/site-packages/sklearn/preprocessing/label.py:151: DeprecationWarning: The truth value of an empty array is ambiguous. Returning False, but in future this will result in an error. Use `array.size > 0` to check that an array is not empty.\n",
      "  if diff:\n"
     ]
    },
    {
     "name": "stdout",
     "output_type": "stream",
     "text": [
      "F1 score and accuracy score for test set: 0.0000 , 0.6349.\n",
      "F1 score and accuracy score for test set: 0.0000 , 0.6234.\n",
      "F1 score and accuracy score for test set: 0.0000 , 0.6299.\n"
     ]
    },
    {
     "name": "stderr",
     "output_type": "stream",
     "text": [
      "/home/shravan/anaconda3/lib/python3.6/site-packages/sklearn/preprocessing/label.py:151: DeprecationWarning: The truth value of an empty array is ambiguous. Returning False, but in future this will result in an error. Use `array.size > 0` to check that an array is not empty.\n",
      "  if diff:\n",
      "/home/shravan/anaconda3/lib/python3.6/site-packages/sklearn/preprocessing/label.py:151: DeprecationWarning: The truth value of an empty array is ambiguous. Returning False, but in future this will result in an error. Use `array.size > 0` to check that an array is not empty.\n",
      "  if diff:\n"
     ]
    },
    {
     "name": "stdout",
     "output_type": "stream",
     "text": [
      "F1 score and accuracy score for test set: 0.0000 , 0.6414.\n",
      "F1 score and accuracy score for test set: 0.0000 , 0.6217.\n",
      "F1 score and accuracy score for test set: 0.0000 , 0.6234.\n"
     ]
    },
    {
     "name": "stderr",
     "output_type": "stream",
     "text": [
      "/home/shravan/anaconda3/lib/python3.6/site-packages/sklearn/preprocessing/label.py:151: DeprecationWarning: The truth value of an empty array is ambiguous. Returning False, but in future this will result in an error. Use `array.size > 0` to check that an array is not empty.\n",
      "  if diff:\n",
      "/home/shravan/anaconda3/lib/python3.6/site-packages/sklearn/preprocessing/label.py:151: DeprecationWarning: The truth value of an empty array is ambiguous. Returning False, but in future this will result in an error. Use `array.size > 0` to check that an array is not empty.\n",
      "  if diff:\n"
     ]
    },
    {
     "name": "stdout",
     "output_type": "stream",
     "text": [
      "F1 score and accuracy score for test set: 0.0000 , 0.6480.\n",
      "F1 score and accuracy score for test set: 0.0000 , 0.6234.\n",
      "F1 score and accuracy score for test set: 0.0000 , 0.6234.\n"
     ]
    },
    {
     "name": "stderr",
     "output_type": "stream",
     "text": [
      "/home/shravan/anaconda3/lib/python3.6/site-packages/sklearn/preprocessing/label.py:151: DeprecationWarning: The truth value of an empty array is ambiguous. Returning False, but in future this will result in an error. Use `array.size > 0` to check that an array is not empty.\n",
      "  if diff:\n",
      "/home/shravan/anaconda3/lib/python3.6/site-packages/sklearn/preprocessing/label.py:151: DeprecationWarning: The truth value of an empty array is ambiguous. Returning False, but in future this will result in an error. Use `array.size > 0` to check that an array is not empty.\n",
      "  if diff:\n"
     ]
    },
    {
     "name": "stdout",
     "output_type": "stream",
     "text": [
      "F1 score and accuracy score for test set: 0.0000 , 0.6349.\n",
      "F1 score and accuracy score for test set: 0.0000 , 0.6398.\n",
      "F1 score and accuracy score for test set: 0.0000 , 0.6217.\n"
     ]
    },
    {
     "name": "stderr",
     "output_type": "stream",
     "text": [
      "/home/shravan/anaconda3/lib/python3.6/site-packages/sklearn/preprocessing/label.py:151: DeprecationWarning: The truth value of an empty array is ambiguous. Returning False, but in future this will result in an error. Use `array.size > 0` to check that an array is not empty.\n",
      "  if diff:\n",
      "/home/shravan/anaconda3/lib/python3.6/site-packages/sklearn/preprocessing/label.py:151: DeprecationWarning: The truth value of an empty array is ambiguous. Returning False, but in future this will result in an error. Use `array.size > 0` to check that an array is not empty.\n",
      "  if diff:\n"
     ]
    },
    {
     "name": "stdout",
     "output_type": "stream",
     "text": [
      "F1 score and accuracy score for test set: 0.0000 , 0.6447.\n",
      "F1 score and accuracy score for test set: 0.0000 , 0.6349.\n",
      "F1 score and accuracy score for test set: 0.0000 , 0.6266.\n"
     ]
    },
    {
     "name": "stderr",
     "output_type": "stream",
     "text": [
      "/home/shravan/anaconda3/lib/python3.6/site-packages/sklearn/preprocessing/label.py:151: DeprecationWarning: The truth value of an empty array is ambiguous. Returning False, but in future this will result in an error. Use `array.size > 0` to check that an array is not empty.\n",
      "  if diff:\n",
      "/home/shravan/anaconda3/lib/python3.6/site-packages/sklearn/preprocessing/label.py:151: DeprecationWarning: The truth value of an empty array is ambiguous. Returning False, but in future this will result in an error. Use `array.size > 0` to check that an array is not empty.\n",
      "  if diff:\n"
     ]
    },
    {
     "name": "stdout",
     "output_type": "stream",
     "text": [
      "F1 score and accuracy score for test set: 0.0000 , 0.6414.\n",
      "F1 score and accuracy score for test set: 0.0000 , 0.6382.\n",
      "F1 score and accuracy score for test set: 0.0000 , 0.6234.\n"
     ]
    },
    {
     "name": "stderr",
     "output_type": "stream",
     "text": [
      "/home/shravan/anaconda3/lib/python3.6/site-packages/sklearn/preprocessing/label.py:151: DeprecationWarning: The truth value of an empty array is ambiguous. Returning False, but in future this will result in an error. Use `array.size > 0` to check that an array is not empty.\n",
      "  if diff:\n",
      "/home/shravan/anaconda3/lib/python3.6/site-packages/sklearn/preprocessing/label.py:151: DeprecationWarning: The truth value of an empty array is ambiguous. Returning False, but in future this will result in an error. Use `array.size > 0` to check that an array is not empty.\n",
      "  if diff:\n"
     ]
    },
    {
     "name": "stdout",
     "output_type": "stream",
     "text": [
      "F1 score and accuracy score for test set: 0.0000 , 0.6414.\n",
      "F1 score and accuracy score for test set: 0.0000 , 0.6398.\n",
      "F1 score and accuracy score for test set: 0.0000 , 0.6250.\n"
     ]
    },
    {
     "name": "stderr",
     "output_type": "stream",
     "text": [
      "/home/shravan/anaconda3/lib/python3.6/site-packages/sklearn/preprocessing/label.py:151: DeprecationWarning: The truth value of an empty array is ambiguous. Returning False, but in future this will result in an error. Use `array.size > 0` to check that an array is not empty.\n",
      "  if diff:\n",
      "/home/shravan/anaconda3/lib/python3.6/site-packages/sklearn/preprocessing/label.py:151: DeprecationWarning: The truth value of an empty array is ambiguous. Returning False, but in future this will result in an error. Use `array.size > 0` to check that an array is not empty.\n",
      "  if diff:\n"
     ]
    },
    {
     "name": "stdout",
     "output_type": "stream",
     "text": [
      "F1 score and accuracy score for test set: 0.0000 , 0.6447.\n",
      "F1 score and accuracy score for test set: 0.0000 , 0.6365.\n",
      "F1 score and accuracy score for test set: 0.0000 , 0.6283.\n"
     ]
    },
    {
     "name": "stderr",
     "output_type": "stream",
     "text": [
      "/home/shravan/anaconda3/lib/python3.6/site-packages/sklearn/preprocessing/label.py:151: DeprecationWarning: The truth value of an empty array is ambiguous. Returning False, but in future this will result in an error. Use `array.size > 0` to check that an array is not empty.\n",
      "  if diff:\n",
      "/home/shravan/anaconda3/lib/python3.6/site-packages/sklearn/preprocessing/label.py:151: DeprecationWarning: The truth value of an empty array is ambiguous. Returning False, but in future this will result in an error. Use `array.size > 0` to check that an array is not empty.\n",
      "  if diff:\n"
     ]
    },
    {
     "name": "stdout",
     "output_type": "stream",
     "text": [
      "F1 score and accuracy score for test set: 0.0000 , 0.6382.\n",
      "F1 score and accuracy score for test set: 0.0000 , 0.6382.\n",
      "F1 score and accuracy score for test set: 0.0000 , 0.6349.\n"
     ]
    },
    {
     "name": "stderr",
     "output_type": "stream",
     "text": [
      "/home/shravan/anaconda3/lib/python3.6/site-packages/sklearn/preprocessing/label.py:151: DeprecationWarning: The truth value of an empty array is ambiguous. Returning False, but in future this will result in an error. Use `array.size > 0` to check that an array is not empty.\n",
      "  if diff:\n",
      "/home/shravan/anaconda3/lib/python3.6/site-packages/sklearn/preprocessing/label.py:151: DeprecationWarning: The truth value of an empty array is ambiguous. Returning False, but in future this will result in an error. Use `array.size > 0` to check that an array is not empty.\n",
      "  if diff:\n"
     ]
    },
    {
     "name": "stdout",
     "output_type": "stream",
     "text": [
      "F1 score and accuracy score for test set: 0.0000 , 0.6398.\n",
      "F1 score and accuracy score for test set: 0.0000 , 0.6266.\n",
      "F1 score and accuracy score for test set: 0.0000 , 0.6382.\n"
     ]
    },
    {
     "name": "stderr",
     "output_type": "stream",
     "text": [
      "/home/shravan/anaconda3/lib/python3.6/site-packages/sklearn/preprocessing/label.py:151: DeprecationWarning: The truth value of an empty array is ambiguous. Returning False, but in future this will result in an error. Use `array.size > 0` to check that an array is not empty.\n",
      "  if diff:\n",
      "/home/shravan/anaconda3/lib/python3.6/site-packages/sklearn/preprocessing/label.py:151: DeprecationWarning: The truth value of an empty array is ambiguous. Returning False, but in future this will result in an error. Use `array.size > 0` to check that an array is not empty.\n",
      "  if diff:\n"
     ]
    },
    {
     "name": "stdout",
     "output_type": "stream",
     "text": [
      "F1 score and accuracy score for test set: 0.0000 , 0.6299.\n",
      "F1 score and accuracy score for test set: 0.0000 , 0.6283.\n",
      "F1 score and accuracy score for test set: 0.0000 , 0.6349.\n"
     ]
    },
    {
     "name": "stderr",
     "output_type": "stream",
     "text": [
      "/home/shravan/anaconda3/lib/python3.6/site-packages/sklearn/preprocessing/label.py:151: DeprecationWarning: The truth value of an empty array is ambiguous. Returning False, but in future this will result in an error. Use `array.size > 0` to check that an array is not empty.\n",
      "  if diff:\n",
      "/home/shravan/anaconda3/lib/python3.6/site-packages/sklearn/preprocessing/label.py:151: DeprecationWarning: The truth value of an empty array is ambiguous. Returning False, but in future this will result in an error. Use `array.size > 0` to check that an array is not empty.\n",
      "  if diff:\n"
     ]
    },
    {
     "name": "stdout",
     "output_type": "stream",
     "text": [
      "F1 score and accuracy score for test set: 0.0000 , 0.6299.\n",
      "F1 score and accuracy score for test set: 0.0000 , 0.6299.\n",
      "F1 score and accuracy score for test set: 0.0000 , 0.6332.\n"
     ]
    },
    {
     "name": "stderr",
     "output_type": "stream",
     "text": [
      "/home/shravan/anaconda3/lib/python3.6/site-packages/sklearn/preprocessing/label.py:151: DeprecationWarning: The truth value of an empty array is ambiguous. Returning False, but in future this will result in an error. Use `array.size > 0` to check that an array is not empty.\n",
      "  if diff:\n",
      "/home/shravan/anaconda3/lib/python3.6/site-packages/sklearn/preprocessing/label.py:151: DeprecationWarning: The truth value of an empty array is ambiguous. Returning False, but in future this will result in an error. Use `array.size > 0` to check that an array is not empty.\n",
      "  if diff:\n"
     ]
    },
    {
     "name": "stdout",
     "output_type": "stream",
     "text": [
      "F1 score and accuracy score for test set: 0.0000 , 0.6266.\n",
      "F1 score and accuracy score for test set: 0.0000 , 0.6299.\n",
      "F1 score and accuracy score for test set: 0.0000 , 0.6398.\n"
     ]
    },
    {
     "name": "stderr",
     "output_type": "stream",
     "text": [
      "/home/shravan/anaconda3/lib/python3.6/site-packages/sklearn/preprocessing/label.py:151: DeprecationWarning: The truth value of an empty array is ambiguous. Returning False, but in future this will result in an error. Use `array.size > 0` to check that an array is not empty.\n",
      "  if diff:\n",
      "/home/shravan/anaconda3/lib/python3.6/site-packages/sklearn/preprocessing/label.py:151: DeprecationWarning: The truth value of an empty array is ambiguous. Returning False, but in future this will result in an error. Use `array.size > 0` to check that an array is not empty.\n",
      "  if diff:\n"
     ]
    },
    {
     "name": "stdout",
     "output_type": "stream",
     "text": [
      "F1 score and accuracy score for test set: 0.0000 , 0.6349.\n",
      "F1 score and accuracy score for test set: 0.0000 , 0.6349.\n",
      "F1 score and accuracy score for test set: 0.0000 , 0.6316.\n"
     ]
    },
    {
     "name": "stderr",
     "output_type": "stream",
     "text": [
      "/home/shravan/anaconda3/lib/python3.6/site-packages/sklearn/preprocessing/label.py:151: DeprecationWarning: The truth value of an empty array is ambiguous. Returning False, but in future this will result in an error. Use `array.size > 0` to check that an array is not empty.\n",
      "  if diff:\n",
      "/home/shravan/anaconda3/lib/python3.6/site-packages/sklearn/preprocessing/label.py:151: DeprecationWarning: The truth value of an empty array is ambiguous. Returning False, but in future this will result in an error. Use `array.size > 0` to check that an array is not empty.\n",
      "  if diff:\n"
     ]
    },
    {
     "name": "stdout",
     "output_type": "stream",
     "text": [
      "F1 score and accuracy score for test set: 0.0000 , 0.6398.\n",
      "F1 score and accuracy score for test set: 0.0000 , 0.6332.\n",
      "F1 score and accuracy score for test set: 0.0000 , 0.6266.\n"
     ]
    },
    {
     "name": "stderr",
     "output_type": "stream",
     "text": [
      "/home/shravan/anaconda3/lib/python3.6/site-packages/sklearn/preprocessing/label.py:151: DeprecationWarning: The truth value of an empty array is ambiguous. Returning False, but in future this will result in an error. Use `array.size > 0` to check that an array is not empty.\n",
      "  if diff:\n",
      "/home/shravan/anaconda3/lib/python3.6/site-packages/sklearn/preprocessing/label.py:151: DeprecationWarning: The truth value of an empty array is ambiguous. Returning False, but in future this will result in an error. Use `array.size > 0` to check that an array is not empty.\n",
      "  if diff:\n"
     ]
    },
    {
     "name": "stdout",
     "output_type": "stream",
     "text": [
      "F1 score and accuracy score for test set: 0.0000 , 0.6431.\n",
      "F1 score and accuracy score for test set: 0.0000 , 0.6332.\n",
      "F1 score and accuracy score for test set: 0.0000 , 0.6234.\n"
     ]
    },
    {
     "name": "stderr",
     "output_type": "stream",
     "text": [
      "/home/shravan/anaconda3/lib/python3.6/site-packages/sklearn/preprocessing/label.py:151: DeprecationWarning: The truth value of an empty array is ambiguous. Returning False, but in future this will result in an error. Use `array.size > 0` to check that an array is not empty.\n",
      "  if diff:\n",
      "/home/shravan/anaconda3/lib/python3.6/site-packages/sklearn/preprocessing/label.py:151: DeprecationWarning: The truth value of an empty array is ambiguous. Returning False, but in future this will result in an error. Use `array.size > 0` to check that an array is not empty.\n",
      "  if diff:\n"
     ]
    },
    {
     "name": "stdout",
     "output_type": "stream",
     "text": [
      "F1 score and accuracy score for test set: 0.0000 , 0.6464.\n",
      "F1 score and accuracy score for test set: 0.0000 , 0.6349.\n",
      "F1 score and accuracy score for test set: 0.0000 , 0.6299.\n"
     ]
    },
    {
     "name": "stderr",
     "output_type": "stream",
     "text": [
      "/home/shravan/anaconda3/lib/python3.6/site-packages/sklearn/preprocessing/label.py:151: DeprecationWarning: The truth value of an empty array is ambiguous. Returning False, but in future this will result in an error. Use `array.size > 0` to check that an array is not empty.\n",
      "  if diff:\n",
      "/home/shravan/anaconda3/lib/python3.6/site-packages/sklearn/preprocessing/label.py:151: DeprecationWarning: The truth value of an empty array is ambiguous. Returning False, but in future this will result in an error. Use `array.size > 0` to check that an array is not empty.\n",
      "  if diff:\n"
     ]
    },
    {
     "name": "stdout",
     "output_type": "stream",
     "text": [
      "F1 score and accuracy score for test set: 0.0000 , 0.6447.\n",
      "F1 score and accuracy score for test set: 0.0000 , 0.6250.\n",
      "F1 score and accuracy score for test set: 0.0000 , 0.6266.\n"
     ]
    },
    {
     "name": "stderr",
     "output_type": "stream",
     "text": [
      "/home/shravan/anaconda3/lib/python3.6/site-packages/sklearn/preprocessing/label.py:151: DeprecationWarning: The truth value of an empty array is ambiguous. Returning False, but in future this will result in an error. Use `array.size > 0` to check that an array is not empty.\n",
      "  if diff:\n",
      "/home/shravan/anaconda3/lib/python3.6/site-packages/sklearn/preprocessing/label.py:151: DeprecationWarning: The truth value of an empty array is ambiguous. Returning False, but in future this will result in an error. Use `array.size > 0` to check that an array is not empty.\n",
      "  if diff:\n"
     ]
    },
    {
     "name": "stdout",
     "output_type": "stream",
     "text": [
      "F1 score and accuracy score for test set: 0.0000 , 0.6431.\n",
      "F1 score and accuracy score for test set: 0.0000 , 0.6283.\n",
      "F1 score and accuracy score for test set: 0.0000 , 0.6316.\n"
     ]
    },
    {
     "name": "stderr",
     "output_type": "stream",
     "text": [
      "/home/shravan/anaconda3/lib/python3.6/site-packages/sklearn/preprocessing/label.py:151: DeprecationWarning: The truth value of an empty array is ambiguous. Returning False, but in future this will result in an error. Use `array.size > 0` to check that an array is not empty.\n",
      "  if diff:\n",
      "/home/shravan/anaconda3/lib/python3.6/site-packages/sklearn/preprocessing/label.py:151: DeprecationWarning: The truth value of an empty array is ambiguous. Returning False, but in future this will result in an error. Use `array.size > 0` to check that an array is not empty.\n",
      "  if diff:\n"
     ]
    },
    {
     "name": "stdout",
     "output_type": "stream",
     "text": [
      "F1 score and accuracy score for test set: 0.0000 , 0.6398.\n",
      "F1 score and accuracy score for test set: 0.0000 , 0.6299.\n",
      "F1 score and accuracy score for test set: 0.0000 , 0.6299.\n"
     ]
    },
    {
     "name": "stderr",
     "output_type": "stream",
     "text": [
      "/home/shravan/anaconda3/lib/python3.6/site-packages/sklearn/preprocessing/label.py:151: DeprecationWarning: The truth value of an empty array is ambiguous. Returning False, but in future this will result in an error. Use `array.size > 0` to check that an array is not empty.\n",
      "  if diff:\n",
      "/home/shravan/anaconda3/lib/python3.6/site-packages/sklearn/preprocessing/label.py:151: DeprecationWarning: The truth value of an empty array is ambiguous. Returning False, but in future this will result in an error. Use `array.size > 0` to check that an array is not empty.\n",
      "  if diff:\n"
     ]
    },
    {
     "name": "stdout",
     "output_type": "stream",
     "text": [
      "F1 score and accuracy score for test set: 0.0000 , 0.6497.\n",
      "F1 score and accuracy score for test set: 0.0000 , 0.6266.\n",
      "F1 score and accuracy score for test set: 0.0000 , 0.6250.\n"
     ]
    },
    {
     "name": "stderr",
     "output_type": "stream",
     "text": [
      "/home/shravan/anaconda3/lib/python3.6/site-packages/sklearn/preprocessing/label.py:151: DeprecationWarning: The truth value of an empty array is ambiguous. Returning False, but in future this will result in an error. Use `array.size > 0` to check that an array is not empty.\n",
      "  if diff:\n",
      "/home/shravan/anaconda3/lib/python3.6/site-packages/sklearn/preprocessing/label.py:151: DeprecationWarning: The truth value of an empty array is ambiguous. Returning False, but in future this will result in an error. Use `array.size > 0` to check that an array is not empty.\n",
      "  if diff:\n"
     ]
    },
    {
     "name": "stdout",
     "output_type": "stream",
     "text": [
      "F1 score and accuracy score for test set: 0.0000 , 0.6480.\n",
      "F1 score and accuracy score for test set: 0.0000 , 0.6316.\n",
      "F1 score and accuracy score for test set: 0.0000 , 0.6316.\n"
     ]
    },
    {
     "name": "stderr",
     "output_type": "stream",
     "text": [
      "/home/shravan/anaconda3/lib/python3.6/site-packages/sklearn/preprocessing/label.py:151: DeprecationWarning: The truth value of an empty array is ambiguous. Returning False, but in future this will result in an error. Use `array.size > 0` to check that an array is not empty.\n",
      "  if diff:\n",
      "/home/shravan/anaconda3/lib/python3.6/site-packages/sklearn/preprocessing/label.py:151: DeprecationWarning: The truth value of an empty array is ambiguous. Returning False, but in future this will result in an error. Use `array.size > 0` to check that an array is not empty.\n",
      "  if diff:\n"
     ]
    },
    {
     "name": "stdout",
     "output_type": "stream",
     "text": [
      "F1 score and accuracy score for test set: 0.0000 , 0.6530.\n",
      "F1 score and accuracy score for test set: 0.0000 , 0.6299.\n",
      "F1 score and accuracy score for test set: 0.0000 , 0.6217.\n"
     ]
    },
    {
     "name": "stderr",
     "output_type": "stream",
     "text": [
      "/home/shravan/anaconda3/lib/python3.6/site-packages/sklearn/preprocessing/label.py:151: DeprecationWarning: The truth value of an empty array is ambiguous. Returning False, but in future this will result in an error. Use `array.size > 0` to check that an array is not empty.\n",
      "  if diff:\n",
      "/home/shravan/anaconda3/lib/python3.6/site-packages/sklearn/preprocessing/label.py:151: DeprecationWarning: The truth value of an empty array is ambiguous. Returning False, but in future this will result in an error. Use `array.size > 0` to check that an array is not empty.\n",
      "  if diff:\n"
     ]
    },
    {
     "name": "stdout",
     "output_type": "stream",
     "text": [
      "F1 score and accuracy score for test set: 0.0000 , 0.6628.\n",
      "F1 score and accuracy score for test set: 0.0000 , 0.6151.\n",
      "F1 score and accuracy score for test set: 0.0000 , 0.6283.\n"
     ]
    },
    {
     "name": "stderr",
     "output_type": "stream",
     "text": [
      "/home/shravan/anaconda3/lib/python3.6/site-packages/sklearn/preprocessing/label.py:151: DeprecationWarning: The truth value of an empty array is ambiguous. Returning False, but in future this will result in an error. Use `array.size > 0` to check that an array is not empty.\n",
      "  if diff:\n",
      "/home/shravan/anaconda3/lib/python3.6/site-packages/sklearn/preprocessing/label.py:151: DeprecationWarning: The truth value of an empty array is ambiguous. Returning False, but in future this will result in an error. Use `array.size > 0` to check that an array is not empty.\n",
      "  if diff:\n"
     ]
    },
    {
     "name": "stdout",
     "output_type": "stream",
     "text": [
      "F1 score and accuracy score for test set: 0.0000 , 0.6497.\n",
      "F1 score and accuracy score for test set: 0.0000 , 0.6217.\n",
      "F1 score and accuracy score for test set: 0.0000 , 0.6332.\n"
     ]
    },
    {
     "name": "stderr",
     "output_type": "stream",
     "text": [
      "/home/shravan/anaconda3/lib/python3.6/site-packages/sklearn/preprocessing/label.py:151: DeprecationWarning: The truth value of an empty array is ambiguous. Returning False, but in future this will result in an error. Use `array.size > 0` to check that an array is not empty.\n",
      "  if diff:\n",
      "/home/shravan/anaconda3/lib/python3.6/site-packages/sklearn/preprocessing/label.py:151: DeprecationWarning: The truth value of an empty array is ambiguous. Returning False, but in future this will result in an error. Use `array.size > 0` to check that an array is not empty.\n",
      "  if diff:\n"
     ]
    },
    {
     "name": "stdout",
     "output_type": "stream",
     "text": [
      "F1 score and accuracy score for test set: 0.0000 , 0.6431.\n",
      "F1 score and accuracy score for test set: 0.0000 , 0.6217.\n",
      "F1 score and accuracy score for test set: 0.0000 , 0.6299.\n"
     ]
    },
    {
     "name": "stderr",
     "output_type": "stream",
     "text": [
      "/home/shravan/anaconda3/lib/python3.6/site-packages/sklearn/preprocessing/label.py:151: DeprecationWarning: The truth value of an empty array is ambiguous. Returning False, but in future this will result in an error. Use `array.size > 0` to check that an array is not empty.\n",
      "  if diff:\n",
      "/home/shravan/anaconda3/lib/python3.6/site-packages/sklearn/preprocessing/label.py:151: DeprecationWarning: The truth value of an empty array is ambiguous. Returning False, but in future this will result in an error. Use `array.size > 0` to check that an array is not empty.\n",
      "  if diff:\n"
     ]
    },
    {
     "name": "stdout",
     "output_type": "stream",
     "text": [
      "F1 score and accuracy score for test set: 0.0000 , 0.6530.\n",
      "F1 score and accuracy score for test set: 0.0000 , 0.6234.\n",
      "F1 score and accuracy score for test set: 0.0000 , 0.6299.\n"
     ]
    },
    {
     "name": "stderr",
     "output_type": "stream",
     "text": [
      "/home/shravan/anaconda3/lib/python3.6/site-packages/sklearn/preprocessing/label.py:151: DeprecationWarning: The truth value of an empty array is ambiguous. Returning False, but in future this will result in an error. Use `array.size > 0` to check that an array is not empty.\n",
      "  if diff:\n",
      "/home/shravan/anaconda3/lib/python3.6/site-packages/sklearn/preprocessing/label.py:151: DeprecationWarning: The truth value of an empty array is ambiguous. Returning False, but in future this will result in an error. Use `array.size > 0` to check that an array is not empty.\n",
      "  if diff:\n"
     ]
    },
    {
     "name": "stdout",
     "output_type": "stream",
     "text": [
      "F1 score and accuracy score for test set: 0.0000 , 0.6513.\n",
      "F1 score and accuracy score for test set: 0.0000 , 0.6234.\n",
      "F1 score and accuracy score for test set: 0.0000 , 0.6283.\n"
     ]
    },
    {
     "name": "stderr",
     "output_type": "stream",
     "text": [
      "/home/shravan/anaconda3/lib/python3.6/site-packages/sklearn/preprocessing/label.py:151: DeprecationWarning: The truth value of an empty array is ambiguous. Returning False, but in future this will result in an error. Use `array.size > 0` to check that an array is not empty.\n",
      "  if diff:\n",
      "/home/shravan/anaconda3/lib/python3.6/site-packages/sklearn/preprocessing/label.py:151: DeprecationWarning: The truth value of an empty array is ambiguous. Returning False, but in future this will result in an error. Use `array.size > 0` to check that an array is not empty.\n",
      "  if diff:\n"
     ]
    },
    {
     "name": "stdout",
     "output_type": "stream",
     "text": [
      "F1 score and accuracy score for test set: 0.0000 , 0.6464.\n",
      "F1 score and accuracy score for test set: 0.0000 , 0.6234.\n",
      "F1 score and accuracy score for test set: 0.0000 , 0.6283.\n"
     ]
    },
    {
     "name": "stderr",
     "output_type": "stream",
     "text": [
      "/home/shravan/anaconda3/lib/python3.6/site-packages/sklearn/preprocessing/label.py:151: DeprecationWarning: The truth value of an empty array is ambiguous. Returning False, but in future this will result in an error. Use `array.size > 0` to check that an array is not empty.\n",
      "  if diff:\n",
      "/home/shravan/anaconda3/lib/python3.6/site-packages/sklearn/preprocessing/label.py:151: DeprecationWarning: The truth value of an empty array is ambiguous. Returning False, but in future this will result in an error. Use `array.size > 0` to check that an array is not empty.\n",
      "  if diff:\n"
     ]
    },
    {
     "name": "stdout",
     "output_type": "stream",
     "text": [
      "F1 score and accuracy score for test set: 0.0000 , 0.6464.\n",
      "F1 score and accuracy score for test set: 0.0000 , 0.6250.\n",
      "F1 score and accuracy score for test set: 0.0000 , 0.6250.\n"
     ]
    },
    {
     "name": "stderr",
     "output_type": "stream",
     "text": [
      "/home/shravan/anaconda3/lib/python3.6/site-packages/sklearn/preprocessing/label.py:151: DeprecationWarning: The truth value of an empty array is ambiguous. Returning False, but in future this will result in an error. Use `array.size > 0` to check that an array is not empty.\n",
      "  if diff:\n",
      "/home/shravan/anaconda3/lib/python3.6/site-packages/sklearn/preprocessing/label.py:151: DeprecationWarning: The truth value of an empty array is ambiguous. Returning False, but in future this will result in an error. Use `array.size > 0` to check that an array is not empty.\n",
      "  if diff:\n"
     ]
    },
    {
     "name": "stdout",
     "output_type": "stream",
     "text": [
      "F1 score and accuracy score for test set: 0.0000 , 0.6398.\n",
      "F1 score and accuracy score for test set: 0.0000 , 0.6250.\n",
      "F1 score and accuracy score for test set: 0.0000 , 0.6250.\n"
     ]
    },
    {
     "name": "stderr",
     "output_type": "stream",
     "text": [
      "/home/shravan/anaconda3/lib/python3.6/site-packages/sklearn/preprocessing/label.py:151: DeprecationWarning: The truth value of an empty array is ambiguous. Returning False, but in future this will result in an error. Use `array.size > 0` to check that an array is not empty.\n",
      "  if diff:\n",
      "/home/shravan/anaconda3/lib/python3.6/site-packages/sklearn/preprocessing/label.py:151: DeprecationWarning: The truth value of an empty array is ambiguous. Returning False, but in future this will result in an error. Use `array.size > 0` to check that an array is not empty.\n",
      "  if diff:\n"
     ]
    },
    {
     "name": "stdout",
     "output_type": "stream",
     "text": [
      "F1 score and accuracy score for test set: 0.0000 , 0.6398.\n",
      "F1 score and accuracy score for test set: 0.0000 , 0.6332.\n",
      "F1 score and accuracy score for test set: 0.0000 , 0.6250.\n"
     ]
    },
    {
     "name": "stderr",
     "output_type": "stream",
     "text": [
      "/home/shravan/anaconda3/lib/python3.6/site-packages/sklearn/preprocessing/label.py:151: DeprecationWarning: The truth value of an empty array is ambiguous. Returning False, but in future this will result in an error. Use `array.size > 0` to check that an array is not empty.\n",
      "  if diff:\n",
      "/home/shravan/anaconda3/lib/python3.6/site-packages/sklearn/preprocessing/label.py:151: DeprecationWarning: The truth value of an empty array is ambiguous. Returning False, but in future this will result in an error. Use `array.size > 0` to check that an array is not empty.\n",
      "  if diff:\n"
     ]
    },
    {
     "name": "stdout",
     "output_type": "stream",
     "text": [
      "F1 score and accuracy score for test set: 0.0000 , 0.6447.\n",
      "F1 score and accuracy score for test set: 0.0000 , 0.6316.\n",
      "F1 score and accuracy score for test set: 0.0000 , 0.6217.\n"
     ]
    },
    {
     "name": "stderr",
     "output_type": "stream",
     "text": [
      "/home/shravan/anaconda3/lib/python3.6/site-packages/sklearn/preprocessing/label.py:151: DeprecationWarning: The truth value of an empty array is ambiguous. Returning False, but in future this will result in an error. Use `array.size > 0` to check that an array is not empty.\n",
      "  if diff:\n",
      "/home/shravan/anaconda3/lib/python3.6/site-packages/sklearn/preprocessing/label.py:151: DeprecationWarning: The truth value of an empty array is ambiguous. Returning False, but in future this will result in an error. Use `array.size > 0` to check that an array is not empty.\n",
      "  if diff:\n"
     ]
    },
    {
     "name": "stdout",
     "output_type": "stream",
     "text": [
      "F1 score and accuracy score for test set: 0.0000 , 0.6464.\n",
      "F1 score and accuracy score for test set: 0.0000 , 0.6283.\n",
      "F1 score and accuracy score for test set: 0.0000 , 0.6266.\n"
     ]
    },
    {
     "name": "stderr",
     "output_type": "stream",
     "text": [
      "/home/shravan/anaconda3/lib/python3.6/site-packages/sklearn/preprocessing/label.py:151: DeprecationWarning: The truth value of an empty array is ambiguous. Returning False, but in future this will result in an error. Use `array.size > 0` to check that an array is not empty.\n",
      "  if diff:\n",
      "/home/shravan/anaconda3/lib/python3.6/site-packages/sklearn/preprocessing/label.py:151: DeprecationWarning: The truth value of an empty array is ambiguous. Returning False, but in future this will result in an error. Use `array.size > 0` to check that an array is not empty.\n",
      "  if diff:\n"
     ]
    },
    {
     "name": "stdout",
     "output_type": "stream",
     "text": [
      "F1 score and accuracy score for test set: 0.0000 , 0.6349.\n",
      "F1 score and accuracy score for test set: 0.0000 , 0.6283.\n",
      "F1 score and accuracy score for test set: 0.0000 , 0.6316.\n"
     ]
    },
    {
     "name": "stderr",
     "output_type": "stream",
     "text": [
      "/home/shravan/anaconda3/lib/python3.6/site-packages/sklearn/preprocessing/label.py:151: DeprecationWarning: The truth value of an empty array is ambiguous. Returning False, but in future this will result in an error. Use `array.size > 0` to check that an array is not empty.\n",
      "  if diff:\n",
      "/home/shravan/anaconda3/lib/python3.6/site-packages/sklearn/preprocessing/label.py:151: DeprecationWarning: The truth value of an empty array is ambiguous. Returning False, but in future this will result in an error. Use `array.size > 0` to check that an array is not empty.\n",
      "  if diff:\n"
     ]
    },
    {
     "name": "stdout",
     "output_type": "stream",
     "text": [
      "F1 score and accuracy score for test set: 0.0000 , 0.6398.\n",
      "F1 score and accuracy score for test set: 0.0000 , 0.6283.\n",
      "F1 score and accuracy score for test set: 0.0000 , 0.6299.\n"
     ]
    },
    {
     "name": "stderr",
     "output_type": "stream",
     "text": [
      "/home/shravan/anaconda3/lib/python3.6/site-packages/sklearn/preprocessing/label.py:151: DeprecationWarning: The truth value of an empty array is ambiguous. Returning False, but in future this will result in an error. Use `array.size > 0` to check that an array is not empty.\n",
      "  if diff:\n",
      "/home/shravan/anaconda3/lib/python3.6/site-packages/sklearn/preprocessing/label.py:151: DeprecationWarning: The truth value of an empty array is ambiguous. Returning False, but in future this will result in an error. Use `array.size > 0` to check that an array is not empty.\n",
      "  if diff:\n"
     ]
    },
    {
     "name": "stdout",
     "output_type": "stream",
     "text": [
      "F1 score and accuracy score for test set: 0.0000 , 0.6464.\n",
      "F1 score and accuracy score for test set: 0.0000 , 0.6332.\n",
      "F1 score and accuracy score for test set: 0.0000 , 0.6283.\n"
     ]
    },
    {
     "name": "stderr",
     "output_type": "stream",
     "text": [
      "/home/shravan/anaconda3/lib/python3.6/site-packages/sklearn/preprocessing/label.py:151: DeprecationWarning: The truth value of an empty array is ambiguous. Returning False, but in future this will result in an error. Use `array.size > 0` to check that an array is not empty.\n",
      "  if diff:\n",
      "/home/shravan/anaconda3/lib/python3.6/site-packages/sklearn/preprocessing/label.py:151: DeprecationWarning: The truth value of an empty array is ambiguous. Returning False, but in future this will result in an error. Use `array.size > 0` to check that an array is not empty.\n",
      "  if diff:\n"
     ]
    },
    {
     "name": "stdout",
     "output_type": "stream",
     "text": [
      "F1 score and accuracy score for test set: 0.0000 , 0.6530.\n",
      "F1 score and accuracy score for test set: 0.0000 , 0.6365.\n",
      "F1 score and accuracy score for test set: 0.0000 , 0.6266.\n"
     ]
    },
    {
     "name": "stderr",
     "output_type": "stream",
     "text": [
      "/home/shravan/anaconda3/lib/python3.6/site-packages/sklearn/preprocessing/label.py:151: DeprecationWarning: The truth value of an empty array is ambiguous. Returning False, but in future this will result in an error. Use `array.size > 0` to check that an array is not empty.\n",
      "  if diff:\n",
      "/home/shravan/anaconda3/lib/python3.6/site-packages/sklearn/preprocessing/label.py:151: DeprecationWarning: The truth value of an empty array is ambiguous. Returning False, but in future this will result in an error. Use `array.size > 0` to check that an array is not empty.\n",
      "  if diff:\n"
     ]
    },
    {
     "name": "stdout",
     "output_type": "stream",
     "text": [
      "F1 score and accuracy score for test set: 0.0000 , 0.6447.\n",
      "F1 score and accuracy score for test set: 0.0000 , 0.6349.\n",
      "F1 score and accuracy score for test set: 0.0000 , 0.6283.\n"
     ]
    },
    {
     "name": "stderr",
     "output_type": "stream",
     "text": [
      "/home/shravan/anaconda3/lib/python3.6/site-packages/sklearn/preprocessing/label.py:151: DeprecationWarning: The truth value of an empty array is ambiguous. Returning False, but in future this will result in an error. Use `array.size > 0` to check that an array is not empty.\n",
      "  if diff:\n",
      "/home/shravan/anaconda3/lib/python3.6/site-packages/sklearn/preprocessing/label.py:151: DeprecationWarning: The truth value of an empty array is ambiguous. Returning False, but in future this will result in an error. Use `array.size > 0` to check that an array is not empty.\n",
      "  if diff:\n"
     ]
    },
    {
     "name": "stdout",
     "output_type": "stream",
     "text": [
      "F1 score and accuracy score for test set: 0.0000 , 0.6431.\n",
      "F1 score and accuracy score for test set: 0.0000 , 0.6299.\n",
      "F1 score and accuracy score for test set: 0.0000 , 0.6217.\n"
     ]
    },
    {
     "name": "stderr",
     "output_type": "stream",
     "text": [
      "/home/shravan/anaconda3/lib/python3.6/site-packages/sklearn/preprocessing/label.py:151: DeprecationWarning: The truth value of an empty array is ambiguous. Returning False, but in future this will result in an error. Use `array.size > 0` to check that an array is not empty.\n",
      "  if diff:\n",
      "/home/shravan/anaconda3/lib/python3.6/site-packages/sklearn/preprocessing/label.py:151: DeprecationWarning: The truth value of an empty array is ambiguous. Returning False, but in future this will result in an error. Use `array.size > 0` to check that an array is not empty.\n",
      "  if diff:\n"
     ]
    },
    {
     "name": "stdout",
     "output_type": "stream",
     "text": [
      "F1 score and accuracy score for test set: 0.0000 , 0.6382.\n",
      "F1 score and accuracy score for test set: 0.0000 , 0.6234.\n",
      "F1 score and accuracy score for test set: 0.0000 , 0.6283.\n"
     ]
    },
    {
     "name": "stderr",
     "output_type": "stream",
     "text": [
      "/home/shravan/anaconda3/lib/python3.6/site-packages/sklearn/preprocessing/label.py:151: DeprecationWarning: The truth value of an empty array is ambiguous. Returning False, but in future this will result in an error. Use `array.size > 0` to check that an array is not empty.\n",
      "  if diff:\n",
      "/home/shravan/anaconda3/lib/python3.6/site-packages/sklearn/preprocessing/label.py:151: DeprecationWarning: The truth value of an empty array is ambiguous. Returning False, but in future this will result in an error. Use `array.size > 0` to check that an array is not empty.\n",
      "  if diff:\n"
     ]
    },
    {
     "name": "stdout",
     "output_type": "stream",
     "text": [
      "F1 score and accuracy score for test set: 0.0000 , 0.6431.\n",
      "F1 score and accuracy score for test set: 0.0000 , 0.6250.\n",
      "F1 score and accuracy score for test set: 0.0000 , 0.6250.\n"
     ]
    },
    {
     "name": "stderr",
     "output_type": "stream",
     "text": [
      "/home/shravan/anaconda3/lib/python3.6/site-packages/sklearn/preprocessing/label.py:151: DeprecationWarning: The truth value of an empty array is ambiguous. Returning False, but in future this will result in an error. Use `array.size > 0` to check that an array is not empty.\n",
      "  if diff:\n",
      "/home/shravan/anaconda3/lib/python3.6/site-packages/sklearn/preprocessing/label.py:151: DeprecationWarning: The truth value of an empty array is ambiguous. Returning False, but in future this will result in an error. Use `array.size > 0` to check that an array is not empty.\n",
      "  if diff:\n"
     ]
    },
    {
     "name": "stdout",
     "output_type": "stream",
     "text": [
      "F1 score and accuracy score for test set: 0.0000 , 0.6414.\n",
      "F1 score and accuracy score for test set: 0.0000 , 0.6283.\n",
      "F1 score and accuracy score for test set: 0.0000 , 0.6217.\n"
     ]
    },
    {
     "name": "stderr",
     "output_type": "stream",
     "text": [
      "/home/shravan/anaconda3/lib/python3.6/site-packages/sklearn/preprocessing/label.py:151: DeprecationWarning: The truth value of an empty array is ambiguous. Returning False, but in future this will result in an error. Use `array.size > 0` to check that an array is not empty.\n",
      "  if diff:\n",
      "/home/shravan/anaconda3/lib/python3.6/site-packages/sklearn/preprocessing/label.py:151: DeprecationWarning: The truth value of an empty array is ambiguous. Returning False, but in future this will result in an error. Use `array.size > 0` to check that an array is not empty.\n",
      "  if diff:\n"
     ]
    },
    {
     "name": "stdout",
     "output_type": "stream",
     "text": [
      "F1 score and accuracy score for test set: 0.0000 , 0.6480.\n",
      "F1 score and accuracy score for test set: 0.0000 , 0.6217.\n",
      "F1 score and accuracy score for test set: 0.0000 , 0.6217.\n"
     ]
    },
    {
     "name": "stderr",
     "output_type": "stream",
     "text": [
      "/home/shravan/anaconda3/lib/python3.6/site-packages/sklearn/preprocessing/label.py:151: DeprecationWarning: The truth value of an empty array is ambiguous. Returning False, but in future this will result in an error. Use `array.size > 0` to check that an array is not empty.\n",
      "  if diff:\n",
      "/home/shravan/anaconda3/lib/python3.6/site-packages/sklearn/preprocessing/label.py:151: DeprecationWarning: The truth value of an empty array is ambiguous. Returning False, but in future this will result in an error. Use `array.size > 0` to check that an array is not empty.\n",
      "  if diff:\n"
     ]
    },
    {
     "name": "stdout",
     "output_type": "stream",
     "text": [
      "F1 score and accuracy score for test set: 0.0000 , 0.6447.\n",
      "F1 score and accuracy score for test set: 0.0000 , 0.6234.\n",
      "F1 score and accuracy score for test set: 0.0000 , 0.6234.\n"
     ]
    },
    {
     "name": "stderr",
     "output_type": "stream",
     "text": [
      "/home/shravan/anaconda3/lib/python3.6/site-packages/sklearn/preprocessing/label.py:151: DeprecationWarning: The truth value of an empty array is ambiguous. Returning False, but in future this will result in an error. Use `array.size > 0` to check that an array is not empty.\n",
      "  if diff:\n",
      "/home/shravan/anaconda3/lib/python3.6/site-packages/sklearn/preprocessing/label.py:151: DeprecationWarning: The truth value of an empty array is ambiguous. Returning False, but in future this will result in an error. Use `array.size > 0` to check that an array is not empty.\n",
      "  if diff:\n"
     ]
    },
    {
     "name": "stdout",
     "output_type": "stream",
     "text": [
      "F1 score and accuracy score for test set: 0.0000 , 0.6480.\n",
      "F1 score and accuracy score for test set: 0.0000 , 0.6266.\n",
      "F1 score and accuracy score for test set: 0.0000 , 0.6283.\n"
     ]
    },
    {
     "name": "stderr",
     "output_type": "stream",
     "text": [
      "/home/shravan/anaconda3/lib/python3.6/site-packages/sklearn/preprocessing/label.py:151: DeprecationWarning: The truth value of an empty array is ambiguous. Returning False, but in future this will result in an error. Use `array.size > 0` to check that an array is not empty.\n",
      "  if diff:\n",
      "/home/shravan/anaconda3/lib/python3.6/site-packages/sklearn/preprocessing/label.py:151: DeprecationWarning: The truth value of an empty array is ambiguous. Returning False, but in future this will result in an error. Use `array.size > 0` to check that an array is not empty.\n",
      "  if diff:\n"
     ]
    },
    {
     "name": "stdout",
     "output_type": "stream",
     "text": [
      "F1 score and accuracy score for test set: 0.0000 , 0.6464.\n",
      "F1 score and accuracy score for test set: 0.0000 , 0.6250.\n",
      "F1 score and accuracy score for test set: 0.0000 , 0.6266.\n"
     ]
    },
    {
     "name": "stderr",
     "output_type": "stream",
     "text": [
      "/home/shravan/anaconda3/lib/python3.6/site-packages/sklearn/preprocessing/label.py:151: DeprecationWarning: The truth value of an empty array is ambiguous. Returning False, but in future this will result in an error. Use `array.size > 0` to check that an array is not empty.\n",
      "  if diff:\n",
      "/home/shravan/anaconda3/lib/python3.6/site-packages/sklearn/preprocessing/label.py:151: DeprecationWarning: The truth value of an empty array is ambiguous. Returning False, but in future this will result in an error. Use `array.size > 0` to check that an array is not empty.\n",
      "  if diff:\n"
     ]
    },
    {
     "name": "stdout",
     "output_type": "stream",
     "text": [
      "F1 score and accuracy score for test set: 0.0000 , 0.6497.\n",
      "F1 score and accuracy score for test set: 0.0000 , 0.6250.\n",
      "F1 score and accuracy score for test set: 0.0000 , 0.6266.\n"
     ]
    },
    {
     "name": "stderr",
     "output_type": "stream",
     "text": [
      "/home/shravan/anaconda3/lib/python3.6/site-packages/sklearn/preprocessing/label.py:151: DeprecationWarning: The truth value of an empty array is ambiguous. Returning False, but in future this will result in an error. Use `array.size > 0` to check that an array is not empty.\n",
      "  if diff:\n",
      "/home/shravan/anaconda3/lib/python3.6/site-packages/sklearn/preprocessing/label.py:151: DeprecationWarning: The truth value of an empty array is ambiguous. Returning False, but in future this will result in an error. Use `array.size > 0` to check that an array is not empty.\n",
      "  if diff:\n"
     ]
    },
    {
     "name": "stdout",
     "output_type": "stream",
     "text": [
      "F1 score and accuracy score for test set: 0.0000 , 0.6382.\n",
      "F1 score and accuracy score for test set: 0.0000 , 0.6250.\n",
      "F1 score and accuracy score for test set: 0.0000 , 0.6217.\n"
     ]
    },
    {
     "name": "stderr",
     "output_type": "stream",
     "text": [
      "/home/shravan/anaconda3/lib/python3.6/site-packages/sklearn/preprocessing/label.py:151: DeprecationWarning: The truth value of an empty array is ambiguous. Returning False, but in future this will result in an error. Use `array.size > 0` to check that an array is not empty.\n",
      "  if diff:\n",
      "/home/shravan/anaconda3/lib/python3.6/site-packages/sklearn/preprocessing/label.py:151: DeprecationWarning: The truth value of an empty array is ambiguous. Returning False, but in future this will result in an error. Use `array.size > 0` to check that an array is not empty.\n",
      "  if diff:\n"
     ]
    },
    {
     "name": "stdout",
     "output_type": "stream",
     "text": [
      "F1 score and accuracy score for test set: 0.0000 , 0.6480.\n",
      "F1 score and accuracy score for test set: 0.0000 , 0.6266.\n",
      "F1 score and accuracy score for test set: 0.0000 , 0.6250.\n"
     ]
    },
    {
     "name": "stderr",
     "output_type": "stream",
     "text": [
      "/home/shravan/anaconda3/lib/python3.6/site-packages/sklearn/preprocessing/label.py:151: DeprecationWarning: The truth value of an empty array is ambiguous. Returning False, but in future this will result in an error. Use `array.size > 0` to check that an array is not empty.\n",
      "  if diff:\n",
      "/home/shravan/anaconda3/lib/python3.6/site-packages/sklearn/preprocessing/label.py:151: DeprecationWarning: The truth value of an empty array is ambiguous. Returning False, but in future this will result in an error. Use `array.size > 0` to check that an array is not empty.\n",
      "  if diff:\n"
     ]
    },
    {
     "name": "stdout",
     "output_type": "stream",
     "text": [
      "F1 score and accuracy score for test set: 0.0000 , 0.6431.\n",
      "F1 score and accuracy score for test set: 0.0000 , 0.6250.\n",
      "F1 score and accuracy score for test set: 0.0000 , 0.6217.\n"
     ]
    },
    {
     "name": "stderr",
     "output_type": "stream",
     "text": [
      "/home/shravan/anaconda3/lib/python3.6/site-packages/sklearn/preprocessing/label.py:151: DeprecationWarning: The truth value of an empty array is ambiguous. Returning False, but in future this will result in an error. Use `array.size > 0` to check that an array is not empty.\n",
      "  if diff:\n",
      "/home/shravan/anaconda3/lib/python3.6/site-packages/sklearn/preprocessing/label.py:151: DeprecationWarning: The truth value of an empty array is ambiguous. Returning False, but in future this will result in an error. Use `array.size > 0` to check that an array is not empty.\n",
      "  if diff:\n"
     ]
    },
    {
     "name": "stdout",
     "output_type": "stream",
     "text": [
      "F1 score and accuracy score for test set: 0.0000 , 0.6447.\n",
      "F1 score and accuracy score for test set: 0.0000 , 0.6283.\n",
      "F1 score and accuracy score for test set: 0.0000 , 0.6201.\n"
     ]
    },
    {
     "name": "stderr",
     "output_type": "stream",
     "text": [
      "/home/shravan/anaconda3/lib/python3.6/site-packages/sklearn/preprocessing/label.py:151: DeprecationWarning: The truth value of an empty array is ambiguous. Returning False, but in future this will result in an error. Use `array.size > 0` to check that an array is not empty.\n",
      "  if diff:\n",
      "/home/shravan/anaconda3/lib/python3.6/site-packages/sklearn/preprocessing/label.py:151: DeprecationWarning: The truth value of an empty array is ambiguous. Returning False, but in future this will result in an error. Use `array.size > 0` to check that an array is not empty.\n",
      "  if diff:\n"
     ]
    },
    {
     "name": "stdout",
     "output_type": "stream",
     "text": [
      "F1 score and accuracy score for test set: 0.0000 , 0.6447.\n",
      "F1 score and accuracy score for test set: 0.0000 , 0.6283.\n",
      "F1 score and accuracy score for test set: 0.0000 , 0.6217.\n"
     ]
    },
    {
     "name": "stderr",
     "output_type": "stream",
     "text": [
      "/home/shravan/anaconda3/lib/python3.6/site-packages/sklearn/preprocessing/label.py:151: DeprecationWarning: The truth value of an empty array is ambiguous. Returning False, but in future this will result in an error. Use `array.size > 0` to check that an array is not empty.\n",
      "  if diff:\n",
      "/home/shravan/anaconda3/lib/python3.6/site-packages/sklearn/preprocessing/label.py:151: DeprecationWarning: The truth value of an empty array is ambiguous. Returning False, but in future this will result in an error. Use `array.size > 0` to check that an array is not empty.\n",
      "  if diff:\n"
     ]
    },
    {
     "name": "stdout",
     "output_type": "stream",
     "text": [
      "F1 score and accuracy score for test set: 0.0000 , 0.6497.\n",
      "F1 score and accuracy score for test set: 0.0000 , 0.6217.\n",
      "F1 score and accuracy score for test set: 0.0000 , 0.6217.\n"
     ]
    },
    {
     "name": "stderr",
     "output_type": "stream",
     "text": [
      "/home/shravan/anaconda3/lib/python3.6/site-packages/sklearn/preprocessing/label.py:151: DeprecationWarning: The truth value of an empty array is ambiguous. Returning False, but in future this will result in an error. Use `array.size > 0` to check that an array is not empty.\n",
      "  if diff:\n",
      "/home/shravan/anaconda3/lib/python3.6/site-packages/sklearn/preprocessing/label.py:151: DeprecationWarning: The truth value of an empty array is ambiguous. Returning False, but in future this will result in an error. Use `array.size > 0` to check that an array is not empty.\n",
      "  if diff:\n"
     ]
    },
    {
     "name": "stdout",
     "output_type": "stream",
     "text": [
      "F1 score and accuracy score for test set: 0.0000 , 0.6382.\n",
      "F1 score and accuracy score for test set: 0.0000 , 0.6250.\n",
      "F1 score and accuracy score for test set: 0.0000 , 0.6234.\n"
     ]
    },
    {
     "name": "stderr",
     "output_type": "stream",
     "text": [
      "/home/shravan/anaconda3/lib/python3.6/site-packages/sklearn/preprocessing/label.py:151: DeprecationWarning: The truth value of an empty array is ambiguous. Returning False, but in future this will result in an error. Use `array.size > 0` to check that an array is not empty.\n",
      "  if diff:\n",
      "/home/shravan/anaconda3/lib/python3.6/site-packages/sklearn/preprocessing/label.py:151: DeprecationWarning: The truth value of an empty array is ambiguous. Returning False, but in future this will result in an error. Use `array.size > 0` to check that an array is not empty.\n",
      "  if diff:\n"
     ]
    },
    {
     "name": "stdout",
     "output_type": "stream",
     "text": [
      "F1 score and accuracy score for test set: 0.0000 , 0.6398.\n",
      "F1 score and accuracy score for test set: 0.0000 , 0.6234.\n",
      "F1 score and accuracy score for test set: 0.0000 , 0.6234.\n"
     ]
    },
    {
     "name": "stderr",
     "output_type": "stream",
     "text": [
      "/home/shravan/anaconda3/lib/python3.6/site-packages/sklearn/preprocessing/label.py:151: DeprecationWarning: The truth value of an empty array is ambiguous. Returning False, but in future this will result in an error. Use `array.size > 0` to check that an array is not empty.\n",
      "  if diff:\n",
      "/home/shravan/anaconda3/lib/python3.6/site-packages/sklearn/preprocessing/label.py:151: DeprecationWarning: The truth value of an empty array is ambiguous. Returning False, but in future this will result in an error. Use `array.size > 0` to check that an array is not empty.\n",
      "  if diff:\n"
     ]
    },
    {
     "name": "stdout",
     "output_type": "stream",
     "text": [
      "F1 score and accuracy score for test set: 0.0000 , 0.6431.\n",
      "F1 score and accuracy score for test set: 0.0000 , 0.6168.\n",
      "F1 score and accuracy score for test set: 0.0000 , 0.6102.\n"
     ]
    },
    {
     "name": "stderr",
     "output_type": "stream",
     "text": [
      "/home/shravan/anaconda3/lib/python3.6/site-packages/sklearn/preprocessing/label.py:151: DeprecationWarning: The truth value of an empty array is ambiguous. Returning False, but in future this will result in an error. Use `array.size > 0` to check that an array is not empty.\n",
      "  if diff:\n",
      "/home/shravan/anaconda3/lib/python3.6/site-packages/sklearn/preprocessing/label.py:151: DeprecationWarning: The truth value of an empty array is ambiguous. Returning False, but in future this will result in an error. Use `array.size > 0` to check that an array is not empty.\n",
      "  if diff:\n"
     ]
    },
    {
     "name": "stdout",
     "output_type": "stream",
     "text": [
      "F1 score and accuracy score for test set: 0.0000 , 0.6447.\n",
      "F1 score and accuracy score for test set: 0.0000 , 0.6168.\n",
      "F1 score and accuracy score for test set: 0.0000 , 0.6118.\n"
     ]
    },
    {
     "name": "stderr",
     "output_type": "stream",
     "text": [
      "/home/shravan/anaconda3/lib/python3.6/site-packages/sklearn/preprocessing/label.py:151: DeprecationWarning: The truth value of an empty array is ambiguous. Returning False, but in future this will result in an error. Use `array.size > 0` to check that an array is not empty.\n",
      "  if diff:\n",
      "/home/shravan/anaconda3/lib/python3.6/site-packages/sklearn/preprocessing/label.py:151: DeprecationWarning: The truth value of an empty array is ambiguous. Returning False, but in future this will result in an error. Use `array.size > 0` to check that an array is not empty.\n",
      "  if diff:\n"
     ]
    },
    {
     "name": "stdout",
     "output_type": "stream",
     "text": [
      "F1 score and accuracy score for test set: 0.0000 , 0.6480.\n",
      "F1 score and accuracy score for test set: 0.0000 , 0.6135.\n",
      "F1 score and accuracy score for test set: 0.0000 , 0.6118.\n"
     ]
    },
    {
     "name": "stderr",
     "output_type": "stream",
     "text": [
      "/home/shravan/anaconda3/lib/python3.6/site-packages/sklearn/preprocessing/label.py:151: DeprecationWarning: The truth value of an empty array is ambiguous. Returning False, but in future this will result in an error. Use `array.size > 0` to check that an array is not empty.\n",
      "  if diff:\n",
      "/home/shravan/anaconda3/lib/python3.6/site-packages/sklearn/preprocessing/label.py:151: DeprecationWarning: The truth value of an empty array is ambiguous. Returning False, but in future this will result in an error. Use `array.size > 0` to check that an array is not empty.\n",
      "  if diff:\n"
     ]
    },
    {
     "name": "stdout",
     "output_type": "stream",
     "text": [
      "F1 score and accuracy score for test set: 0.0000 , 0.6398.\n",
      "F1 score and accuracy score for test set: 0.0000 , 0.6102.\n",
      "F1 score and accuracy score for test set: 0.0000 , 0.6118.\n"
     ]
    },
    {
     "name": "stderr",
     "output_type": "stream",
     "text": [
      "/home/shravan/anaconda3/lib/python3.6/site-packages/sklearn/preprocessing/label.py:151: DeprecationWarning: The truth value of an empty array is ambiguous. Returning False, but in future this will result in an error. Use `array.size > 0` to check that an array is not empty.\n",
      "  if diff:\n",
      "/home/shravan/anaconda3/lib/python3.6/site-packages/sklearn/preprocessing/label.py:151: DeprecationWarning: The truth value of an empty array is ambiguous. Returning False, but in future this will result in an error. Use `array.size > 0` to check that an array is not empty.\n",
      "  if diff:\n"
     ]
    },
    {
     "name": "stdout",
     "output_type": "stream",
     "text": [
      "F1 score and accuracy score for test set: 0.0000 , 0.6349.\n",
      "F1 score and accuracy score for test set: 0.0000 , 0.6102.\n",
      "F1 score and accuracy score for test set: 0.0000 , 0.6069.\n"
     ]
    },
    {
     "name": "stderr",
     "output_type": "stream",
     "text": [
      "/home/shravan/anaconda3/lib/python3.6/site-packages/sklearn/preprocessing/label.py:151: DeprecationWarning: The truth value of an empty array is ambiguous. Returning False, but in future this will result in an error. Use `array.size > 0` to check that an array is not empty.\n",
      "  if diff:\n",
      "/home/shravan/anaconda3/lib/python3.6/site-packages/sklearn/preprocessing/label.py:151: DeprecationWarning: The truth value of an empty array is ambiguous. Returning False, but in future this will result in an error. Use `array.size > 0` to check that an array is not empty.\n",
      "  if diff:\n"
     ]
    },
    {
     "name": "stdout",
     "output_type": "stream",
     "text": [
      "F1 score and accuracy score for test set: 0.0000 , 0.6414.\n",
      "F1 score and accuracy score for test set: 0.0000 , 0.6118.\n",
      "F1 score and accuracy score for test set: 0.0000 , 0.6102.\n"
     ]
    },
    {
     "name": "stderr",
     "output_type": "stream",
     "text": [
      "/home/shravan/anaconda3/lib/python3.6/site-packages/sklearn/preprocessing/label.py:151: DeprecationWarning: The truth value of an empty array is ambiguous. Returning False, but in future this will result in an error. Use `array.size > 0` to check that an array is not empty.\n",
      "  if diff:\n",
      "/home/shravan/anaconda3/lib/python3.6/site-packages/sklearn/preprocessing/label.py:151: DeprecationWarning: The truth value of an empty array is ambiguous. Returning False, but in future this will result in an error. Use `array.size > 0` to check that an array is not empty.\n",
      "  if diff:\n"
     ]
    },
    {
     "name": "stdout",
     "output_type": "stream",
     "text": [
      "F1 score and accuracy score for test set: 0.0000 , 0.6464.\n",
      "F1 score and accuracy score for test set: 0.0000 , 0.6135.\n",
      "F1 score and accuracy score for test set: 0.0000 , 0.6102.\n"
     ]
    },
    {
     "name": "stderr",
     "output_type": "stream",
     "text": [
      "/home/shravan/anaconda3/lib/python3.6/site-packages/sklearn/preprocessing/label.py:151: DeprecationWarning: The truth value of an empty array is ambiguous. Returning False, but in future this will result in an error. Use `array.size > 0` to check that an array is not empty.\n",
      "  if diff:\n",
      "/home/shravan/anaconda3/lib/python3.6/site-packages/sklearn/preprocessing/label.py:151: DeprecationWarning: The truth value of an empty array is ambiguous. Returning False, but in future this will result in an error. Use `array.size > 0` to check that an array is not empty.\n",
      "  if diff:\n"
     ]
    },
    {
     "name": "stdout",
     "output_type": "stream",
     "text": [
      "F1 score and accuracy score for test set: 0.0000 , 0.6414.\n",
      "F1 score and accuracy score for test set: 0.0000 , 0.6069.\n",
      "F1 score and accuracy score for test set: 0.0000 , 0.6102.\n"
     ]
    },
    {
     "name": "stderr",
     "output_type": "stream",
     "text": [
      "/home/shravan/anaconda3/lib/python3.6/site-packages/sklearn/preprocessing/label.py:151: DeprecationWarning: The truth value of an empty array is ambiguous. Returning False, but in future this will result in an error. Use `array.size > 0` to check that an array is not empty.\n",
      "  if diff:\n",
      "/home/shravan/anaconda3/lib/python3.6/site-packages/sklearn/preprocessing/label.py:151: DeprecationWarning: The truth value of an empty array is ambiguous. Returning False, but in future this will result in an error. Use `array.size > 0` to check that an array is not empty.\n",
      "  if diff:\n"
     ]
    },
    {
     "name": "stdout",
     "output_type": "stream",
     "text": [
      "F1 score and accuracy score for test set: 0.0000 , 0.6365.\n",
      "F1 score and accuracy score for test set: 0.0000 , 0.6102.\n",
      "F1 score and accuracy score for test set: 0.0000 , 0.6086.\n"
     ]
    },
    {
     "name": "stderr",
     "output_type": "stream",
     "text": [
      "/home/shravan/anaconda3/lib/python3.6/site-packages/sklearn/preprocessing/label.py:151: DeprecationWarning: The truth value of an empty array is ambiguous. Returning False, but in future this will result in an error. Use `array.size > 0` to check that an array is not empty.\n",
      "  if diff:\n",
      "/home/shravan/anaconda3/lib/python3.6/site-packages/sklearn/preprocessing/label.py:151: DeprecationWarning: The truth value of an empty array is ambiguous. Returning False, but in future this will result in an error. Use `array.size > 0` to check that an array is not empty.\n",
      "  if diff:\n"
     ]
    },
    {
     "name": "stdout",
     "output_type": "stream",
     "text": [
      "F1 score and accuracy score for test set: 0.0000 , 0.6431.\n",
      "F1 score and accuracy score for test set: 0.0000 , 0.6135.\n",
      "F1 score and accuracy score for test set: 0.0000 , 0.6086.\n",
      "F1 score and accuracy score for test set: 0.0000 , 0.6431.\n",
      "points [10, 11, 12, 13, 14, 15, 16, 17, 18, 19, 20, 21, 22, 23, 24, 25, 26, 27, 28, 29, 30, 31, 32, 33, 34, 35, 36, 37, 38, 39, 40, 41, 42, 43, 44, 45, 46, 47, 48, 49, 50, 51, 52, 53, 54, 55, 56, 57, 58, 59, 60, 61, 62, 63, 64, 65, 66, 67, 68, 69, 70, 71, 72, 73, 74, 75, 76, 77, 78, 79, 80, 81, 82, 83, 84, 85, 86, 87, 88]\n",
      "y_models [[0.6151315789473685, 0.6167763157894737, 0.6134868421052632, 0.618421052631579, 0.6200657894736842, 0.6167763157894737, 0.6167763157894737, 0.6134868421052632, 0.6151315789473685, 0.6134868421052632, 0.6200657894736842, 0.625, 0.6167763157894737, 0.6233552631578947, 0.6217105263157895, 0.6233552631578947, 0.6398026315789473, 0.6348684210526315, 0.6381578947368421, 0.6398026315789473, 0.6365131578947368, 0.6381578947368421, 0.6266447368421053, 0.6282894736842105, 0.6299342105263158, 0.6299342105263158, 0.6348684210526315, 0.6332236842105263, 0.6332236842105263, 0.6348684210526315, 0.625, 0.6282894736842105, 0.6299342105263158, 0.6266447368421053, 0.631578947368421, 0.6299342105263158, 0.6151315789473685, 0.6217105263157895, 0.6217105263157895, 0.6233552631578947, 0.6233552631578947, 0.6233552631578947, 0.625, 0.625, 0.6332236842105263, 0.631578947368421, 0.6282894736842105, 0.6282894736842105, 0.6282894736842105, 0.6332236842105263, 0.6365131578947368, 0.6348684210526315, 0.6299342105263158, 0.6233552631578947, 0.625, 0.6282894736842105, 0.6217105263157895, 0.6233552631578947, 0.6266447368421053, 0.625, 0.625, 0.625, 0.6266447368421053, 0.625, 0.6282894736842105, 0.6282894736842105, 0.6217105263157895, 0.625, 0.6233552631578947, 0.6167763157894737, 0.6167763157894737, 0.6134868421052632, 0.6101973684210527, 0.6101973684210527, 0.6118421052631579, 0.6134868421052632, 0.6069078947368421, 0.6101973684210527, 0.6134868421052632], [0.600328947368421, 0.5953947368421053, 0.5970394736842105, 0.5986842105263158, 0.600328947368421, 0.6134868421052632, 0.6118421052631579, 0.6151315789473685, 0.6167763157894737, 0.618421052631579, 0.6069078947368421, 0.6151315789473685, 0.6233552631578947, 0.6299342105263158, 0.6233552631578947, 0.6233552631578947, 0.6217105263157895, 0.6266447368421053, 0.6233552631578947, 0.625, 0.6282894736842105, 0.6348684210526315, 0.6381578947368421, 0.6348684210526315, 0.6332236842105263, 0.6398026315789473, 0.631578947368421, 0.6266447368421053, 0.6233552631578947, 0.6299342105263158, 0.6266447368421053, 0.631578947368421, 0.6299342105263158, 0.625, 0.631578947368421, 0.6217105263157895, 0.6282894736842105, 0.6332236842105263, 0.6299342105263158, 0.6299342105263158, 0.6282894736842105, 0.6282894736842105, 0.625, 0.625, 0.625, 0.6217105263157895, 0.6266447368421053, 0.631578947368421, 0.6299342105263158, 0.6282894736842105, 0.6266447368421053, 0.6282894736842105, 0.6217105263157895, 0.6282894736842105, 0.625, 0.6217105263157895, 0.6217105263157895, 0.6233552631578947, 0.6282894736842105, 0.6266447368421053, 0.6266447368421053, 0.6217105263157895, 0.625, 0.6217105263157895, 0.6200657894736842, 0.6217105263157895, 0.6217105263157895, 0.6233552631578947, 0.6233552631578947, 0.6101973684210527, 0.6118421052631579, 0.6118421052631579, 0.6118421052631579, 0.6069078947368421, 0.6101973684210527, 0.6101973684210527, 0.6101973684210527, 0.6085526315789473, 0.6085526315789473], [0.6036184210526315, 0.600328947368421, 0.5953947368421053, 0.5986842105263158, 0.6052631578947368, 0.6233552631578947, 0.6217105263157895, 0.6118421052631579, 0.6151315789473685, 0.6200657894736842, 0.6217105263157895, 0.631578947368421, 0.6348684210526315, 0.6414473684210527, 0.6480263157894737, 0.6348684210526315, 0.6447368421052632, 0.6414473684210527, 0.6414473684210527, 0.6447368421052632, 0.6381578947368421, 0.6398026315789473, 0.6299342105263158, 0.6299342105263158, 0.6266447368421053, 0.6348684210526315, 0.6398026315789473, 0.6430921052631579, 0.6463815789473685, 0.6447368421052632, 0.6430921052631579, 0.6398026315789473, 0.649671052631579, 0.6480263157894737, 0.6529605263157895, 0.662828947368421, 0.649671052631579, 0.6430921052631579, 0.6529605263157895, 0.6513157894736842, 0.6463815789473685, 0.6463815789473685, 0.6398026315789473, 0.6398026315789473, 0.6447368421052632, 0.6463815789473685, 0.6348684210526315, 0.6398026315789473, 0.6463815789473685, 0.6529605263157895, 0.6447368421052632, 0.6430921052631579, 0.6381578947368421, 0.6430921052631579, 0.6414473684210527, 0.6480263157894737, 0.6447368421052632, 0.6480263157894737, 0.6463815789473685, 0.649671052631579, 0.6381578947368421, 0.6480263157894737, 0.6430921052631579, 0.6447368421052632, 0.6447368421052632, 0.649671052631579, 0.6381578947368421, 0.6398026315789473, 0.6430921052631579, 0.6447368421052632, 0.6480263157894737, 0.6398026315789473, 0.6348684210526315, 0.6414473684210527, 0.6463815789473685, 0.6414473684210527, 0.6365131578947368, 0.6430921052631579, 0.6430921052631579]]\n"
     ]
    },
    {
     "name": "stderr",
     "output_type": "stream",
     "text": [
      "/home/shravan/anaconda3/lib/python3.6/site-packages/sklearn/preprocessing/label.py:151: DeprecationWarning: The truth value of an empty array is ambiguous. Returning False, but in future this will result in an error. Use `array.size > 0` to check that an array is not empty.\n",
      "  if diff:\n",
      "/home/shravan/anaconda3/lib/python3.6/site-packages/sklearn/preprocessing/label.py:151: DeprecationWarning: The truth value of an empty array is ambiguous. Returning False, but in future this will result in an error. Use `array.size > 0` to check that an array is not empty.\n",
      "  if diff:\n"
     ]
    }
   ],
   "source": [
    "#### Feature selection to find out the best number of features\n",
    "### Feature selection algorithms\n",
    "from sklearn.feature_selection import SelectKBest\n",
    "from sklearn.feature_selection import f_classif, mutual_info_classif\n",
    "\n",
    "def selectFeature(feature, num):\n",
    "    \n",
    "    \n",
    "    # Initialize the three models (XGBoost is initialized later)\n",
    "    clf_A = LogisticRegression(random_state = 42)\n",
    "    clf_B = SVC(random_state = 912, kernel='rbf')\n",
    "    clf_C = xgb.XGBClassifier(seed = 34)\n",
    "    \n",
    "    X = SelectKBest(score_func=feature, k=num).fit_transform(X_all,y_all)\n",
    "    \n",
    "    \n",
    "    X_train, X_test, y_train, y_test = train_test_split(X, y_all, \n",
    "                                                    test_size = 0.2,\n",
    "                                                    shuffle = False)\n",
    "#   \n",
    "    a1 = train_predict(clf_A, X_train, y_train, X_test, y_test)\n",
    "#     print ('')\n",
    "    a2 = train_predict(clf_B, X_train, y_train, X_test, y_test)\n",
    "#     print ('')\n",
    "    a3= train_predict(clf_C, X_train, y_train, X_test, y_test)\n",
    "#     print ('')\n",
    "    return [a1,a2,a3]\n",
    "\n",
    "\n",
    "##Running for different features\n",
    "features = [mutual_info_classif]\n",
    "all_accuracies = []\n",
    "x_points =[]\n",
    "y_modelAccuracies = [[],[],[]]\n",
    "# for f in features:\n",
    "#     temp =[]\n",
    "for num in range(10,X_all.shape[1]):\n",
    "    x_points.append(num)\n",
    "    a1,a2,a3 = selectFeature(f_classif,num)\n",
    "    y_modelAccuracies[0].append(a1 * 100)\n",
    "    y_modelAccuracies[1].append(a2 * 100)\n",
    "    y_modelAccuracies[2].append(a3 * 100)\n",
    "    \n",
    "print(\"points\", x_points)  \n",
    "print(\"y_models\", y_modelAccuracies)  \n",
    "\n",
    "# print(\"The Max accuracy is \", max(temp), \" for number \", temp.index(max(temp))+10)\n",
    "# all_accuracies.append((f, temp))\n"
   ]
  },
  {
   "cell_type": "code",
   "execution_count": 34,
   "metadata": {},
   "outputs": [
    {
     "data": {
      "image/png": "[encoded data removed]",
      "text/plain": [
       "<Figure size 1080x720 with 1 Axes>"
      ]
     },
     "metadata": {},
     "output_type": "display_data"
    }
   ],
   "source": [
    "import matplotlib.pylab as plt\n",
    "%matplotlib inline\n",
    "plt.rcParams[\"font.weight\"] = \"bold\"\n",
    "\n",
    "fig=plt.figure(figsize=(15,10))\n",
    "plt.plot(x_points,  y_modelAccuracies[0],   label=\"Logistic Regression\",linewidth=3.0)\n",
    "plt.plot(x_points,  y_modelAccuracies[1],   label=\"SVC\", linewidth=3.0)\n",
    "plt.plot(x_points,  y_modelAccuracies[2],   label=\"XG-Boost\", linewidth=3.0)\n",
    "\n",
    "plt.legend(loc='lower right')\n",
    "# plt.title(\"Accuracy vs Features using f_Classif\", fontsize=20, fontweight=\"bold\")\n",
    "plt.xlabel(\"Number of features\", fontsize=15, fontweight=\"bold\")\n",
    "plt.ylabel(\"Accuracy in %\", fontsize=15, fontweight=\"bold\")\n",
    "\n",
    "fig.savefig('f_classif.png')\n",
    "\n",
    "plt.show()\n",
    "\n"
   ]
  },
  {
   "cell_type": "code",
   "execution_count": 148,
   "metadata": {},
   "outputs": [
    {
     "name": "stderr",
     "output_type": "stream",
     "text": [
      "/home/shravan/anaconda3/lib/python3.6/site-packages/sklearn/preprocessing/label.py:151: DeprecationWarning: The truth value of an empty array is ambiguous. Returning False, but in future this will result in an error. Use `array.size > 0` to check that an array is not empty.\n",
      "  if diff:\n",
      "/home/shravan/anaconda3/lib/python3.6/site-packages/sklearn/metrics/classification.py:1045: UserWarning: Note that pos_label (set to 'H') is ignored when average != 'binary' (got 'micro'). You may use labels=[pos_label] to specify a single positive class.\n",
      "  % (pos_label, average), UserWarning)\n",
      "/home/shravan/anaconda3/lib/python3.6/site-packages/sklearn/preprocessing/label.py:151: DeprecationWarning: The truth value of an empty array is ambiguous. Returning False, but in future this will result in an error. Use `array.size > 0` to check that an array is not empty.\n",
      "  if diff:\n",
      "/home/shravan/anaconda3/lib/python3.6/site-packages/sklearn/metrics/classification.py:1045: UserWarning: Note that pos_label (set to 'H') is ignored when average != 'binary' (got 'micro'). You may use labels=[pos_label] to specify a single positive class.\n",
      "  % (pos_label, average), UserWarning)\n",
      "/home/shravan/anaconda3/lib/python3.6/site-packages/sklearn/preprocessing/label.py:151: DeprecationWarning: The truth value of an empty array is ambiguous. Returning False, but in future this will result in an error. Use `array.size > 0` to check that an array is not empty.\n",
      "  if diff:\n",
      "/home/shravan/anaconda3/lib/python3.6/site-packages/sklearn/metrics/classification.py:1045: UserWarning: Note that pos_label (set to 'H') is ignored when average != 'binary' (got 'micro'). You may use labels=[pos_label] to specify a single positive class.\n",
      "  % (pos_label, average), UserWarning)\n",
      "/home/shravan/anaconda3/lib/python3.6/site-packages/sklearn/preprocessing/label.py:151: DeprecationWarning: The truth value of an empty array is ambiguous. Returning False, but in future this will result in an error. Use `array.size > 0` to check that an array is not empty.\n",
      "  if diff:\n",
      "/home/shravan/anaconda3/lib/python3.6/site-packages/sklearn/metrics/classification.py:1045: UserWarning: Note that pos_label (set to 'H') is ignored when average != 'binary' (got 'micro'). You may use labels=[pos_label] to specify a single positive class.\n",
      "  % (pos_label, average), UserWarning)\n",
      "/home/shravan/anaconda3/lib/python3.6/site-packages/sklearn/preprocessing/label.py:151: DeprecationWarning: The truth value of an empty array is ambiguous. Returning False, but in future this will result in an error. Use `array.size > 0` to check that an array is not empty.\n",
      "  if diff:\n",
      "/home/shravan/anaconda3/lib/python3.6/site-packages/sklearn/metrics/classification.py:1045: UserWarning: Note that pos_label (set to 'H') is ignored when average != 'binary' (got 'micro'). You may use labels=[pos_label] to specify a single positive class.\n",
      "  % (pos_label, average), UserWarning)\n"
     ]
    },
    {
     "name": "stdout",
     "output_type": "stream",
     "text": [
      "XGBClassifier(base_score=0.5, booster='gbtree', colsample_bylevel=1,\n",
      "       colsample_bytree=0.8, gamma=0.4, learning_rate=0.1,\n",
      "       max_delta_step=0, max_depth=3, min_child_weight=3, missing=None,\n",
      "       n_estimators=40, n_jobs=1, nthread=None, objective='multi:softprob',\n",
      "       random_state=0, reg_alpha=1e-05, reg_lambda=1, scale_pos_weight=1,\n",
      "       seed=2, silent=True, subsample=0.8)\n",
      "F1 score and accuracy score for training set: 0.0000 , 0.6809.\n",
      "F1 score and accuracy score for test set: 0.0000 , 0.6447.\n"
     ]
    },
    {
     "name": "stderr",
     "output_type": "stream",
     "text": [
      "/home/shravan/anaconda3/lib/python3.6/site-packages/sklearn/preprocessing/label.py:151: DeprecationWarning: The truth value of an empty array is ambiguous. Returning False, but in future this will result in an error. Use `array.size > 0` to check that an array is not empty.\n",
      "  if diff:\n",
      "/home/shravan/anaconda3/lib/python3.6/site-packages/sklearn/preprocessing/label.py:151: DeprecationWarning: The truth value of an empty array is ambiguous. Returning False, but in future this will result in an error. Use `array.size > 0` to check that an array is not empty.\n",
      "  if diff:\n"
     ]
    }
   ],
   "source": [
    "# ###Trying to optimize the hyperparameter\n",
    "# # TODO: Import 'GridSearchCV' and 'make_scorer'\n",
    "# from sklearn.grid_search import GridSearchCV\n",
    "# from sklearn.metrics import make_scorer\n",
    "\n",
    "\n",
    "# # TODO: Create the parameters list you wish to tune\n",
    "# parameters = { 'learning_rate' : [0.1],\n",
    "#                'n_estimators' : [40],\n",
    "#                'max_depth': [3],\n",
    "#                'min_child_weight': [3],\n",
    "#                'gamma':[0.4],\n",
    "#                'subsample' : [0.8],\n",
    "#                'colsample_bytree' : [0.8],\n",
    "#                'scale_pos_weight' : [1],\n",
    "#                'reg_alpha':[1e-5]\n",
    "#              }  \n",
    "\n",
    "# # TODO: Initialize the classifier\n",
    "# clf = xgb.XGBClassifier(seed=2)\n",
    "\n",
    "# # TODO: Make an f1 scoring function using 'make_scorer' \n",
    "# f1_scorer = make_scorer(f1_score,pos_label='H',average='micro')\n",
    "\n",
    "# # TODO: Perform grid search on the classifier using the f1_scorer as the scoring method\n",
    "# grid_obj = GridSearchCV(clf,\n",
    "#                         scoring=f1_scorer,\n",
    "#                         param_grid=parameters,\n",
    "#                         cv=5)\n",
    "\n",
    "# # TODO: Fit the grid search object to the training data and find the optimal parameters\n",
    "# grid_obj = grid_obj.fit(X_train,y_train)\n",
    "\n",
    "# # Get the estimator\n",
    "# clf = grid_obj.best_estimator_\n",
    "# print (clf)\n",
    "\n",
    "# # Report the final F1 score for training and testing after parameter tuning\n",
    "# f1, acc = predict_labels(clf, X_train, y_train)\n",
    "# print (\"F1 score and accuracy score for training set: {:.4f} , {:.4f}.\".format(f1 , acc))\n",
    "    \n",
    "# f1, acc = predict_labels(clf, X_test, y_test)\n",
    "# print (\"F1 score and accuracy score for test set: {:.4f} , {:.4f}.\".format(f1 , acc))"
   ]
  },
  {
   "cell_type": "code",
   "execution_count": null,
   "metadata": {},
   "outputs": [],
   "source": []
  }
 ],
 "metadata": {
  "kernelspec": {
   "display_name": "Python 3",
   "language": "python",
   "name": "python3"
  },
  "language_info": {
   "codemirror_mode": {
    "name": "ipython",
    "version": 3
   },
   "file_extension": ".py",
   "mimetype": "text/x-python",
   "name": "python",
   "nbconvert_exporter": "python",
   "pygments_lexer": "ipython3",
   "version": "3.6.5"
  }
 },
 "nbformat": 4,
 "nbformat_minor": 2
}
